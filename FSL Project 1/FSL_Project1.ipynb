{
 "cells": [
  {
   "cell_type": "code",
   "execution_count": 1,
   "metadata": {
    "id": "2Av4mFhaFza6"
   },
   "outputs": [],
   "source": [
    "import scipy.io\n",
    "import numpy as np\n",
    "import pandas as pd\n",
    "import scipy.stats"
   ]
  },
  {
   "cell_type": "markdown",
   "metadata": {
    "id": "c2ArKmCc_Bks"
   },
   "source": [
    "**Task** **1**"
   ]
  },
  {
   "cell_type": "code",
   "execution_count": 3,
   "metadata": {
    "id": "5AnrX-PWGDhP"
   },
   "outputs": [],
   "source": [
    "data = scipy.io.loadmat('train_data.mat')"
   ]
  },
  {
   "cell_type": "code",
   "execution_count": 4,
   "metadata": {
    "colab": {
     "base_uri": "https://localhost:8080/"
    },
    "id": "szMttwGZGFPJ",
    "outputId": "d227f2ee-eaa7-4724-9181-405bf0fe0dc4"
   },
   "outputs": [
    {
     "data": {
      "text/plain": [
       "dict_keys(['__header__', '__version__', '__globals__', 'data', 'label'])"
      ]
     },
     "execution_count": 4,
     "metadata": {},
     "output_type": "execute_result"
    }
   ],
   "source": [
    "data.keys()"
   ]
  },
  {
   "cell_type": "code",
   "execution_count": 7,
   "metadata": {},
   "outputs": [
    {
     "data": {
      "text/plain": [
       "array([[3, 3, 3, ..., 7, 7, 7]])"
      ]
     },
     "execution_count": 7,
     "metadata": {},
     "output_type": "execute_result"
    }
   ],
   "source": [
    "data[\"label\"]"
   ]
  },
  {
   "cell_type": "code",
   "execution_count": 6,
   "metadata": {
    "id": "lPDtvCuCGVb4"
   },
   "outputs": [],
   "source": [
    "data_features = []\n",
    "feature_1_list = []\n",
    "feature_2_list = []"
   ]
  },
  {
   "cell_type": "code",
   "execution_count": 7,
   "metadata": {
    "id": "PquAc4GBGXTI"
   },
   "outputs": [],
   "source": [
    "for i in range(len(data['data'])):\n",
    "    feature_1 = np.mean(data['data'][i].flatten()).tolist()\n",
    "    feature_2 = np.std(data['data'][i].flatten())\n",
    "    # data_features.append([feature_1, feature_2])\n",
    "    feature_1_list.append(feature_1)\n",
    "    feature_2_list.append(feature_2)"
   ]
  },
  {
   "cell_type": "code",
   "execution_count": 8,
   "metadata": {
    "id": "St-_FbWJGdTj"
   },
   "outputs": [],
   "source": [
    "M1 = np.mean(feature_1_list)\n",
    "S1 = np.std(feature_1_list)\n",
    "\n",
    "M2 = np.mean(feature_2_list)\n",
    "S2 = np.std(feature_2_list)"
   ]
  },
  {
   "cell_type": "code",
   "execution_count": 9,
   "metadata": {
    "colab": {
     "base_uri": "https://localhost:8080/"
    },
    "id": "FakiMCOwGgAv",
    "outputId": "97d1b939-7a30-43b0-8efb-a28b997902f0"
   },
   "outputs": [
    {
     "data": {
      "text/plain": [
       "(32.50435107148159, 76.44042397326842)"
      ]
     },
     "execution_count": 9,
     "metadata": {},
     "output_type": "execute_result"
    }
   ],
   "source": [
    "M1,M2"
   ]
  },
  {
   "cell_type": "code",
   "execution_count": 10,
   "metadata": {
    "colab": {
     "base_uri": "https://localhost:8080/"
    },
    "id": "zLWPeKZ7Gi--",
    "outputId": "d2ef46da-d3a0-4d2f-82e5-7560e8a2d363"
   },
   "outputs": [
    {
     "data": {
      "text/plain": [
       "(9.349449452973936, 10.509725393032216)"
      ]
     },
     "execution_count": 10,
     "metadata": {},
     "output_type": "execute_result"
    }
   ],
   "source": [
    "S1,S2"
   ]
  },
  {
   "cell_type": "code",
   "execution_count": 11,
   "metadata": {
    "id": "rLvr-PqCGlba"
   },
   "outputs": [],
   "source": [
    "Y1, Y2 = np.zeros(len(data['data'])), np.zeros(len(data['data']))\n",
    "for i in range(len(data['data'])):\n",
    "    Y1[i]=(feature_1_list[i]-M1)/S1\n",
    "    Y2[i]=(feature_2_list[i]-M2)/S2"
   ]
  },
  {
   "cell_type": "code",
   "execution_count": 12,
   "metadata": {
    "colab": {
     "base_uri": "https://localhost:8080/"
    },
    "id": "7PypfY0ZGnZF",
    "outputId": "db141777-25f6-43f5-c2bb-47b9e4b3ab20"
   },
   "outputs": [
    {
     "data": {
      "text/plain": [
       "(array([ 0.15069489, -0.97386658, -0.60346935, ..., -0.80933654,\n",
       "        -0.42215888,  0.14114505]), 32.50435107148159, 9.349449452973936)"
      ]
     },
     "execution_count": 12,
     "metadata": {},
     "output_type": "execute_result"
    }
   ],
   "source": [
    "Y1, M1,S1"
   ]
  },
  {
   "cell_type": "code",
   "execution_count": 13,
   "metadata": {
    "colab": {
     "base_uri": "https://localhost:8080/"
    },
    "id": "4lSE0OiWGpTk",
    "outputId": "281b7ba0-cbe1-4c86-cc16-481c78df12f3"
   },
   "outputs": [
    {
     "data": {
      "text/plain": [
       "(array([ 0.12996069, -0.93473171, -0.6292426 , ..., -0.83222958,\n",
       "        -0.31853427,  0.41329776]), 76.44042397326842, 10.509725393032216)"
      ]
     },
     "execution_count": 13,
     "metadata": {},
     "output_type": "execute_result"
    }
   ],
   "source": [
    "Y2, M2,S2"
   ]
  },
  {
   "cell_type": "markdown",
   "metadata": {
    "id": "ve5To_p9AaNP"
   },
   "source": [
    "## **Task** **2**"
   ]
  },
  {
   "cell_type": "code",
   "execution_count": 14,
   "metadata": {
    "id": "e2EFJ5ZbGrNQ"
   },
   "outputs": [],
   "source": [
    "#image 3\n",
    "class0=[]\n",
    "#image 7\n",
    "class1=[]"
   ]
  },
  {
   "cell_type": "code",
   "execution_count": 15,
   "metadata": {
    "id": "15i2xT2CGtls"
   },
   "outputs": [],
   "source": [
    "for i in range(len(data['data'])):\n",
    "    if data['label'][0][i] == 3:\n",
    "        class0.append(i)\n",
    "    elif data['label'][0][i]==7:\n",
    "        class1.append(i)"
   ]
  },
  {
   "cell_type": "code",
   "execution_count": 16,
   "metadata": {
    "id": "9JsEL0z7GvYK"
   },
   "outputs": [],
   "source": [
    "# For Image 3\n",
    "splitY1_class_0 = [Y1[i] for i in class0]\n",
    "splitY2_class_0 = [Y2[i] for i in class0]\n",
    "# For Image 7\n",
    "splitY1_class_1 = [Y1[i] for i in class1]\n",
    "splitY2_class_1 = [Y2[i] for i in class1]"
   ]
  },
  {
   "cell_type": "code",
   "execution_count": 17,
   "metadata": {
    "id": "KSnDr0PHIke6"
   },
   "outputs": [],
   "source": [
    "meanOfY1_class_0 , meanOfY2_class_0 = np.mean(splitY1_class_0), np.mean(splitY2_class_0)\n",
    "meanOfY1_class_1 , meanOfY2_class_1 = np.mean(splitY1_class_1), np.mean(splitY2_class_1)"
   ]
  },
  {
   "cell_type": "code",
   "execution_count": 18,
   "metadata": {
    "colab": {
     "base_uri": "https://localhost:8080/"
    },
    "id": "_6GU8EEDIrX6",
    "outputId": "78269ca1-adac-4903-cfd1-9f3fc19ee5b5"
   },
   "outputs": [
    {
     "name": "stdout",
     "output_type": "stream",
     "text": [
      "0.3768799644438678 0.31851854940980523\n",
      "-0.3690000405943126 -0.31185886422934433\n"
     ]
    }
   ],
   "source": [
    "print(meanOfY1_class_0 , meanOfY2_class_0)\n",
    "print(meanOfY1_class_1 , meanOfY2_class_1)"
   ]
  },
  {
   "cell_type": "code",
   "execution_count": 19,
   "metadata": {
    "colab": {
     "base_uri": "https://localhost:8080/"
    },
    "id": "QLhkgLBMIt-M",
    "outputId": "508cdd86-5ec9-42c5-f661-8994e25e20d2"
   },
   "outputs": [
    {
     "name": "stdout",
     "output_type": "stream",
     "text": [
      "1.0242585609232964 0.9799897057943019\n",
      "0.8226125232643172 0.9177161877589698\n"
     ]
    }
   ],
   "source": [
    "std_Y1_class_0, std_Y2_class_0 = np.std(splitY1_class_0), np.std(splitY2_class_0)\n",
    "print(std_Y1_class_0, std_Y2_class_0)\n",
    "\n",
    "std_Y1_class_1, std_Y2_class_1 = np.std(splitY1_class_1), np.std(splitY2_class_1)\n",
    "print(std_Y1_class_1, std_Y2_class_1)"
   ]
  },
  {
   "cell_type": "code",
   "execution_count": 20,
   "metadata": {
    "colab": {
     "base_uri": "https://localhost:8080/"
    },
    "id": "EnwAsU2xJsfl",
    "outputId": "200b9a2c-7284-4769-b582-85577a80474c"
   },
   "outputs": [
    {
     "data": {
      "text/plain": [
       "array([-0.36900004, -0.31185886])"
      ]
     },
     "execution_count": 20,
     "metadata": {},
     "output_type": "execute_result"
    }
   ],
   "source": [
    "mu_class_0 = np.array([meanOfY1_class_0 , meanOfY2_class_0])\n",
    "mu_class_1 = np.array([meanOfY1_class_1 , meanOfY2_class_1])\n",
    "mu_class_1"
   ]
  },
  {
   "cell_type": "code",
   "execution_count": 21,
   "metadata": {
    "colab": {
     "base_uri": "https://localhost:8080/"
    },
    "id": "xKdB9m3KJ0fU",
    "outputId": "c20e4dc3-90ae-4ff1-a851-8c0ad1424cb8"
   },
   "outputs": [
    {
     "name": "stdout",
     "output_type": "stream",
     "text": [
      "[0.37687996 0.31851855]\n",
      "[-0.36900004 -0.31185886]\n"
     ]
    }
   ],
   "source": [
    "print(mu_class_0)\n",
    "print(mu_class_1)"
   ]
  },
  {
   "cell_type": "code",
   "execution_count": 22,
   "metadata": {
    "id": "fSwiUQsWJ8-u"
   },
   "outputs": [],
   "source": [
    "# Discriminant variables here is the covariance matrix\n",
    "discriminant_class_0 = 0\n",
    "discriminant_class_1 = 0"
   ]
  },
  {
   "cell_type": "code",
   "execution_count": 23,
   "metadata": {
    "colab": {
     "base_uri": "https://localhost:8080/"
    },
    "id": "ZIFQJKa0KFSG",
    "outputId": "625aefb4-9e92-487b-9f1e-574f0a51e54b"
   },
   "outputs": [
    {
     "data": {
      "text/plain": [
       "array([[1.0491056 , 0.98717364],\n",
       "       [0.98717364, 0.96037982]])"
      ]
     },
     "execution_count": 23,
     "metadata": {},
     "output_type": "execute_result"
    }
   ],
   "source": [
    "for i in class0:\n",
    "    y_class_0 = np.array([Y1[i], Y2[i]])\n",
    "    term_class_1 = (y_class_0-mu_class_0)\n",
    "    discriminant_class_0 += term_class_1 * term_class_1[None].T\n",
    "discriminant_class_0 = discriminant_class_0/len(class0)\n",
    "discriminant_class_0"
   ]
  },
  {
   "cell_type": "code",
   "execution_count": 24,
   "metadata": {
    "colab": {
     "base_uri": "https://localhost:8080/"
    },
    "id": "2uGWXdN8KKYc",
    "outputId": "a6f3682d-a326-4dc7-8769-7971a33168b6"
   },
   "outputs": [
    {
     "data": {
      "text/plain": [
       "array([[0.67669136, 0.74435619],\n",
       "       [0.74435619, 0.842203  ]])"
      ]
     },
     "execution_count": 24,
     "metadata": {},
     "output_type": "execute_result"
    }
   ],
   "source": [
    "for i in class1:\n",
    "    y_class_1 = np.array([Y1[i], Y2[i]])\n",
    "    term_class_1 = (y_class_1-mu_class_1)\n",
    "    discriminant_class_1 += term_class_1 * term_class_1[None].T\n",
    "discriminant_class_1 = discriminant_class_1/len(class1)\n",
    "discriminant_class_1"
   ]
  },
  {
   "cell_type": "markdown",
   "metadata": {
    "id": "AnZj_nu4ATDZ"
   },
   "source": [
    "# Estimating Density"
   ]
  },
  {
   "cell_type": "code",
   "execution_count": 25,
   "metadata": {
    "colab": {
     "base_uri": "https://localhost:8080/"
    },
    "id": "JRUrJbqNADDy",
    "outputId": "96632d67-db77-49ed-d896-66ae497f87fb"
   },
   "outputs": [
    {
     "data": {
      "text/plain": [
       "(array([0.37687996, 0.31851855]), array([[1.0491056 , 0.98717364],\n",
       "        [0.98717364, 0.96037982]]))"
      ]
     },
     "execution_count": 25,
     "metadata": {},
     "output_type": "execute_result"
    }
   ],
   "source": [
    "mu_class_0,discriminant_class_0"
   ]
  },
  {
   "cell_type": "code",
   "execution_count": 26,
   "metadata": {
    "colab": {
     "base_uri": "https://localhost:8080/"
    },
    "id": "Hbnb5PsjANnf",
    "outputId": "3663204a-527a-47a2-e9e4-01dec433973c"
   },
   "outputs": [
    {
     "data": {
      "text/plain": [
       "(array([-0.36900004, -0.31185886]), array([[0.67669136, 0.74435619],\n",
       "        [0.74435619, 0.842203  ]]))"
      ]
     },
     "execution_count": 26,
     "metadata": {},
     "output_type": "execute_result"
    }
   ],
   "source": [
    "mu_class_1,discriminant_class_1"
   ]
  },
  {
   "cell_type": "markdown",
   "metadata": {
    "id": "6fmCDPqDCg3r"
   },
   "source": [
    "## Task 3"
   ]
  },
  {
   "cell_type": "code",
   "execution_count": 27,
   "metadata": {
    "id": "eOXQMGh2hvOp"
   },
   "outputs": [],
   "source": [
    "##P(E) for P(3)=P(7)=0.5"
   ]
  },
  {
   "cell_type": "code",
   "execution_count": 28,
   "metadata": {
    "id": "KR203CcOKOuR"
   },
   "outputs": [],
   "source": [
    "prob_w1 = np.zeros(len(data['data']))\n",
    "prob_w2 = np.zeros(len(data['data']))"
   ]
  },
  {
   "cell_type": "code",
   "execution_count": 29,
   "metadata": {
    "id": "RTV6FLIQKpnN"
   },
   "outputs": [],
   "source": [
    "from scipy.stats import multivariate_normal\n",
    "cond_image_3 = multivariate_normal.pdf(np.array([Y1, Y2]).T, mu_class_0, discriminant_class_0)\n",
    "cond_image_7 = multivariate_normal.pdf(np.array([Y1, Y2]).T, mu_class_1, discriminant_class_1)\n",
    "tot_prob_x=0.5*cond_image_3+0.5*cond_image_7\n",
    "prob_w1_case_1 = (0.5 * cond_image_3)/tot_prob_x\n",
    "prob_w2_case_1 = (0.5 * cond_image_7)/tot_prob_x"
   ]
  },
  {
   "cell_type": "code",
   "execution_count": 30,
   "metadata": {
    "colab": {
     "base_uri": "https://localhost:8080/"
    },
    "id": "WT1yEQ5miQYs",
    "outputId": "638bfbf8-c4f1-4879-e450-b39dd9d2276d"
   },
   "outputs": [
    {
     "data": {
      "text/plain": [
       "(array([0.53955864, 0.28232707, 0.32754567, ..., 0.29195989, 0.30544148,\n",
       "        0.22810482]),\n",
       " array([0.46044136, 0.71767293, 0.67245433, ..., 0.70804011, 0.69455852,\n",
       "        0.77189518]))"
      ]
     },
     "execution_count": 30,
     "metadata": {},
     "output_type": "execute_result"
    }
   ],
   "source": [
    "prob_w1_case_1,prob_w2_case_1"
   ]
  },
  {
   "cell_type": "code",
   "execution_count": 31,
   "metadata": {
    "colab": {
     "base_uri": "https://localhost:8080/"
    },
    "id": "u3f9YxgtiTMZ",
    "outputId": "62737b44-37e8-4d67-f148-cb020511a908"
   },
   "outputs": [
    {
     "data": {
      "text/plain": [
       "array([[ 0.15069489,  0.12996069],\n",
       "       [-0.97386658, -0.93473171],\n",
       "       [-0.60346935, -0.6292426 ],\n",
       "       ...,\n",
       "       [-0.80933654, -0.83222958],\n",
       "       [-0.42215888, -0.31853427],\n",
       "       [ 0.14114505,  0.41329776]])"
      ]
     },
     "execution_count": 31,
     "metadata": {},
     "output_type": "execute_result"
    }
   ],
   "source": [
    "np.array([Y1, Y2]).T"
   ]
  },
  {
   "cell_type": "code",
   "execution_count": 32,
   "metadata": {
    "id": "Dog5trIdibF9"
   },
   "outputs": [],
   "source": [
    "P_Error_Train_case_1 = 0\n",
    "for i in range(len(data['data'])):\n",
    "    if prob_w1_case_1[i] > prob_w2_case_1[i]:\n",
    "        P_Error_Train_case_1 += prob_w2_case_1[i]\n",
    "    else:\n",
    "        P_Error_Train_case_1 += prob_w1_case_1[i]"
   ]
  },
  {
   "cell_type": "code",
   "execution_count": 33,
   "metadata": {
    "colab": {
     "base_uri": "https://localhost:8080/"
    },
    "id": "0L7Lr_ZvisNX",
    "outputId": "00e7cc6b-0da3-4c22-bf42-e2f150225f98"
   },
   "outputs": [
    {
     "name": "stdout",
     "output_type": "stream",
     "text": [
      "Error for P(3)=P(7)=0.5 is 0.2632324599044005\n"
     ]
    }
   ],
   "source": [
    "print(f\"Error for P(3)=P(7)=0.5 is {P_Error_Train_case_1/len(data['data'])}\")"
   ]
  },
  {
   "cell_type": "code",
   "execution_count": 34,
   "metadata": {
    "colab": {
     "base_uri": "https://localhost:8080/"
    },
    "id": "aaxLxuMBUJG5",
    "outputId": "a0979d8e-9c7e-4f81-bb55-2bc8332660e8"
   },
   "outputs": [
    {
     "data": {
      "text/plain": [
       "3039.808446976017"
      ]
     },
     "execution_count": 34,
     "metadata": {},
     "output_type": "execute_result"
    }
   ],
   "source": [
    "P_Error_Train_case_1"
   ]
  },
  {
   "cell_type": "code",
   "execution_count": 35,
   "metadata": {
    "id": "zexHFu1fi2At"
   },
   "outputs": [],
   "source": [
    "#P(E) for P(3)= 0.3 and P(7)=0.7"
   ]
  },
  {
   "cell_type": "code",
   "execution_count": 36,
   "metadata": {
    "id": "zQ96_PqSUH-N"
   },
   "outputs": [],
   "source": [
    "prob_w1_case_2 = (0.3 * cond_image_3)/tot_prob_x\n",
    "prob_w2_case_2 = (0.7 * cond_image_7)/tot_prob_x"
   ]
  },
  {
   "cell_type": "code",
   "execution_count": 37,
   "metadata": {
    "colab": {
     "base_uri": "https://localhost:8080/"
    },
    "id": "e-UeCcW6VxIr",
    "outputId": "94df3e3e-cccf-40a2-8098-4e7cb0bdd3df"
   },
   "outputs": [
    {
     "data": {
      "text/plain": [
       "(array([0.32373518, 0.16939624, 0.1965274 , ..., 0.17517594, 0.18326489,\n",
       "        0.13686289]),\n",
       " array([0.64461791, 1.0047421 , 0.94143606, ..., 0.99125615, 0.97238193,\n",
       "        1.08065325]))"
      ]
     },
     "execution_count": 37,
     "metadata": {},
     "output_type": "execute_result"
    }
   ],
   "source": [
    "prob_w1_case_2,prob_w2_case_2"
   ]
  },
  {
   "cell_type": "code",
   "execution_count": 38,
   "metadata": {
    "id": "ugxgQZrjVz_0"
   },
   "outputs": [],
   "source": [
    "P_Error_Train_case_2 = 0\n",
    "for i in range(len(data['data'])):\n",
    "    if prob_w1_case_2[i] > prob_w2_case_2[i]:\n",
    "        P_Error_Train_case_2 += prob_w2_case_2[i]\n",
    "    else:\n",
    "        P_Error_Train_case_2 += prob_w1_case_2[i]"
   ]
  },
  {
   "cell_type": "code",
   "execution_count": 39,
   "metadata": {
    "colab": {
     "base_uri": "https://localhost:8080/"
    },
    "id": "WmzLqFeSV7m7",
    "outputId": "b1e496ee-6f1a-4573-d22d-f219db693716"
   },
   "outputs": [
    {
     "name": "stdout",
     "output_type": "stream",
     "text": [
      "Error for P(3)=0.3 and P(7)=0.7 is 0.1808480157167703\n"
     ]
    }
   ],
   "source": [
    "print(f\"Error for P(3)=0.3 and P(7)=0.7 is {P_Error_Train_case_2/len(data['data'])}\")"
   ]
  },
  {
   "cell_type": "code",
   "execution_count": 40,
   "metadata": {
    "colab": {
     "base_uri": "https://localhost:8080/"
    },
    "id": "JRNtq6MHWBiT",
    "outputId": "13672f42-916d-4484-9bf8-a65fff50a29c"
   },
   "outputs": [
    {
     "data": {
      "text/plain": [
       "2088.4328854972637"
      ]
     },
     "execution_count": 40,
     "metadata": {},
     "output_type": "execute_result"
    }
   ],
   "source": [
    "P_Error_Train_case_2"
   ]
  },
  {
   "cell_type": "code",
   "execution_count": 41,
   "metadata": {
    "id": "GiiHpK5rWJMM"
   },
   "outputs": [],
   "source": [
    "# Performing for Test Data"
   ]
  },
  {
   "cell_type": "code",
   "execution_count": 42,
   "metadata": {
    "id": "uxZnc9GLWQ3r"
   },
   "outputs": [],
   "source": [
    "test_data = data = scipy.io.loadmat('test_data.mat')"
   ]
  },
  {
   "cell_type": "code",
   "execution_count": 43,
   "metadata": {
    "colab": {
     "base_uri": "https://localhost:8080/"
    },
    "id": "UvkhnydMWaSx",
    "outputId": "d1e8e873-bd9f-41fd-92a0-2b3785f73fca"
   },
   "outputs": [
    {
     "data": {
      "text/plain": [
       "dict_keys(['__header__', '__version__', '__globals__', 'data', 'label'])"
      ]
     },
     "execution_count": 43,
     "metadata": {},
     "output_type": "execute_result"
    }
   ],
   "source": [
    "test_data.keys()"
   ]
  },
  {
   "cell_type": "code",
   "execution_count": 44,
   "metadata": {
    "colab": {
     "base_uri": "https://localhost:8080/"
    },
    "id": "46jgbVvdWkv8",
    "outputId": "920880a6-58f0-4ea3-b3d5-2b10216ab016"
   },
   "outputs": [
    {
     "data": {
      "text/plain": [
       "2886"
      ]
     },
     "execution_count": 44,
     "metadata": {},
     "output_type": "execute_result"
    }
   ],
   "source": [
    "len(test_data['data'])"
   ]
  },
  {
   "cell_type": "code",
   "execution_count": 45,
   "metadata": {
    "colab": {
     "base_uri": "https://localhost:8080/"
    },
    "id": "yjF7mdNBWnSV",
    "outputId": "697168db-fea6-4e68-897a-acc352224c8c"
   },
   "outputs": [
    {
     "data": {
      "text/plain": [
       "array([[3, 3, 3, ..., 7, 7, 7]])"
      ]
     },
     "execution_count": 45,
     "metadata": {},
     "output_type": "execute_result"
    }
   ],
   "source": [
    "test_data['label']"
   ]
  },
  {
   "cell_type": "code",
   "execution_count": 46,
   "metadata": {
    "id": "eywcxVTJXw8j"
   },
   "outputs": [],
   "source": [
    "data_features_test = []\n",
    "feature_test_1_list = []\n",
    "feature_test_2_list = []"
   ]
  },
  {
   "cell_type": "code",
   "execution_count": 47,
   "metadata": {
    "id": "IqBwIhUIXXG2"
   },
   "outputs": [],
   "source": [
    "for i in range(len(test_data['data'])):\n",
    "    feature_test_1 = np.mean(test_data['data'][i].flatten()).tolist()\n",
    "    feature_test_2 = np.std(test_data['data'][i].flatten())\n",
    "    data_features_test.append([feature_1, feature_2])\n",
    "    feature_test_1_list.append(feature_test_1)\n",
    "    feature_test_2_list.append(feature_test_2)"
   ]
  },
  {
   "cell_type": "code",
   "execution_count": 48,
   "metadata": {
    "id": "R_sQ3lTTXtzN"
   },
   "outputs": [],
   "source": [
    "M1_test = np.mean(feature_test_1_list)\n",
    "S1_test = np.std(feature_test_1_list)\n",
    "\n",
    "M2_test = np.mean(feature_test_2_list)\n",
    "S2_test = np.std(feature_test_2_list)"
   ]
  },
  {
   "cell_type": "code",
   "execution_count": 49,
   "metadata": {
    "colab": {
     "base_uri": "https://localhost:8080/"
    },
    "id": "E-828GdVYOpY",
    "outputId": "29a0f5f6-8259-4338-bebd-63ff860bb550"
   },
   "outputs": [
    {
     "data": {
      "text/plain": [
       "(33.23068083782369, 77.1949417103036)"
      ]
     },
     "execution_count": 49,
     "metadata": {},
     "output_type": "execute_result"
    }
   ],
   "source": [
    "M1_test,M2_test"
   ]
  },
  {
   "cell_type": "code",
   "execution_count": 50,
   "metadata": {
    "colab": {
     "base_uri": "https://localhost:8080/"
    },
    "id": "cRxYY0NBYUF8",
    "outputId": "ccca2e3a-4326-4712-cbb5-1b6747f8a7f4"
   },
   "outputs": [
    {
     "data": {
      "text/plain": [
       "(9.807076720815555, 10.874661388710518)"
      ]
     },
     "execution_count": 50,
     "metadata": {},
     "output_type": "execute_result"
    }
   ],
   "source": [
    "S1_test,S2_test"
   ]
  },
  {
   "cell_type": "code",
   "execution_count": 63,
   "metadata": {
    "id": "X-FGKvW2YVT_"
   },
   "outputs": [],
   "source": [
    "Y1_test, Y2_test = np.zeros(len(test_data['data'])), np.zeros(len(test_data['data']))\n",
    "for i in range(len(test_data['data'])):\n",
    "    Y1_test[i]=(feature_test_1_list[i]-M1)/S1\n",
    "    Y2_test[i]=(feature_test_2_list[i]-M2)/S2"
   ]
  },
  {
   "cell_type": "code",
   "execution_count": 139,
   "metadata": {
    "colab": {
     "base_uri": "https://localhost:8080/"
    },
    "id": "vR87Jd-HZfWq",
    "outputId": "7c53a5e4-2160-4aa2-f5b3-7551ba59eb1d"
   },
   "outputs": [
    {
     "data": {
      "text/plain": [
       "(array([ 1.41659394,  0.41809031,  1.40213276, ..., -1.03157488,\n",
       "        -0.09323522, -1.35831572]),\n",
       " array([ 1.29177314,  0.5888807 ,  1.2132882 , ..., -1.07742787,\n",
       "         0.12317551, -1.53804101]))"
      ]
     },
     "execution_count": 139,
     "metadata": {},
     "output_type": "execute_result"
    }
   ],
   "source": [
    "Y1_test, Y2_test"
   ]
  },
  {
   "cell_type": "code",
   "execution_count": 65,
   "metadata": {
    "id": "Xi7rlrCmDRK8"
   },
   "outputs": [],
   "source": [
    "##P(E) for P(3)=P(7)=0.5"
   ]
  },
  {
   "cell_type": "code",
   "execution_count": 145,
   "metadata": {
    "id": "EwZPtEdqZhr2"
   },
   "outputs": [],
   "source": [
    "prob_test_w1_case1 = np.zeros(len(test_data['data']))\n",
    "prob_test_w2_case1 = np.zeros(len(test_data['data']))"
   ]
  },
  {
   "cell_type": "code",
   "execution_count": 146,
   "metadata": {
    "id": "8Mv2vx8_aKsz"
   },
   "outputs": [],
   "source": [
    "cond_test_image3 = multivariate_normal.pdf(np.array([Y1_test, Y2_test]).T, mu_class_0, discriminant_class_0)\n",
    "cond_test_image7 = multivariate_normal.pdf(np.array([Y1_test, Y2_test]).T, mu_class_1, discriminant_class_1)\n"
   ]
  },
  {
   "cell_type": "code",
   "execution_count": 147,
   "metadata": {
    "colab": {
     "base_uri": "https://localhost:8080/"
    },
    "id": "E8jseEbSgx0z",
    "outputId": "0ea1a9b4-edee-4005-8d9d-5cd2befbe59a"
   },
   "outputs": [
    {
     "data": {
      "text/plain": [
       "array([0.00747294, 0.77937474, 0.00272436, ..., 0.88812906, 0.82533697,\n",
       "       0.40863947])"
      ]
     },
     "execution_count": 147,
     "metadata": {},
     "output_type": "execute_result"
    }
   ],
   "source": [
    "cond_test_image7"
   ]
  },
  {
   "cell_type": "code",
   "execution_count": 148,
   "metadata": {
    "colab": {
     "base_uri": "https://localhost:8080/"
    },
    "id": "AWi6qLWheUN-",
    "outputId": "69fd2c86-a6e4-4c4d-ddf3-95ab6837a0df"
   },
   "outputs": [
    {
     "data": {
      "text/plain": [
       "array([0.26520571, 0.57635776, 0.2468451 , ..., 0.60122059, 0.56219829,\n",
       "       0.2513826 ])"
      ]
     },
     "execution_count": 148,
     "metadata": {},
     "output_type": "execute_result"
    }
   ],
   "source": [
    "tot_prob_test=(0.5*cond_test_image_3)+(0.5*cond_test_image_7)\n",
    "tot_prob_test"
   ]
  },
  {
   "cell_type": "code",
   "execution_count": 149,
   "metadata": {
    "colab": {
     "base_uri": "https://localhost:8080/"
    },
    "id": "IgfG3gwaebdP",
    "outputId": "2714565e-b9ab-428f-8194-72cfb0e85e1a"
   },
   "outputs": [
    {
     "name": "stdout",
     "output_type": "stream",
     "text": [
      "[0.98591105 0.32387937 0.99448164 ... 0.26139501 0.26597342 0.18721609]\n",
      "[0.01408895 0.67612063 0.00551836 ... 0.73860499 0.73402658 0.81278391]\n"
     ]
    }
   ],
   "source": [
    "prob_test_w1_case1 = (0.5 * cond_test_image_3)/tot_prob_test_x\n",
    "print(probTest_w1_case_1)\n",
    "prob_test_w2_case1 = (0.5 * cond_test_image_7)/tot_prob_test_x\n",
    "print(probTest_w2_case_1)"
   ]
  },
  {
   "cell_type": "code",
   "execution_count": 150,
   "metadata": {
    "id": "8_0pSvqKavkm"
   },
   "outputs": [],
   "source": [
    "P_Error_Test_case_1 = 0\n",
    "for i in range(len(test_data['data'])):\n",
    "    if prob_test_w1_case1[i] > prob_test_w2_case1[i]:\n",
    "        P_Error_Test_case_1 += prob_test_w2_case1[i]\n",
    "    else:\n",
    "        P_Error_Test_case_1 += prob_test_w1_case1[i]"
   ]
  },
  {
   "cell_type": "code",
   "execution_count": 151,
   "metadata": {
    "colab": {
     "base_uri": "https://localhost:8080/"
    },
    "id": "YRF-AE8ghUcy",
    "outputId": "4ae00cac-745a-473a-e5b3-00d38f3cab88"
   },
   "outputs": [
    {
     "data": {
      "text/plain": [
       "2886"
      ]
     },
     "execution_count": 151,
     "metadata": {},
     "output_type": "execute_result"
    }
   ],
   "source": [
    "len(test_data['data'])"
   ]
  },
  {
   "cell_type": "code",
   "execution_count": 152,
   "metadata": {
    "colab": {
     "base_uri": "https://localhost:8080/"
    },
    "id": "rKySvfGTcMll",
    "outputId": "e2ecb3cb-7b47-4495-904d-82c92d78eb28"
   },
   "outputs": [
    {
     "name": "stdout",
     "output_type": "stream",
     "text": [
      "P(Error) for P(3)=P(7)=0.5 is 0.2550935170023689\n"
     ]
    }
   ],
   "source": [
    "\n",
    "print(f\"P(Error) for P(3)=P(7)=0.5 is {P_Error_Test_case_1/len(test_data['data'])}\")"
   ]
  },
  {
   "cell_type": "code",
   "execution_count": 153,
   "metadata": {
    "colab": {
     "base_uri": "https://localhost:8080/"
    },
    "id": "Kl2tIaYWcTW8",
    "outputId": "f10775f4-0352-4bb7-f630-cf83f5fd7b97"
   },
   "outputs": [
    {
     "data": {
      "text/plain": [
       "736.1998900688366"
      ]
     },
     "execution_count": 153,
     "metadata": {},
     "output_type": "execute_result"
    }
   ],
   "source": [
    "P_Error_Test_case_1"
   ]
  },
  {
   "cell_type": "code",
   "execution_count": 154,
   "metadata": {
    "id": "qsyFJVBcDUZI"
   },
   "outputs": [],
   "source": [
    "##P(E) for P(3)=0.3 and P(7)=0.7"
   ]
  },
  {
   "cell_type": "code",
   "execution_count": 160,
   "metadata": {
    "id": "635bliCAAOKn"
   },
   "outputs": [],
   "source": [
    "prob_test_w1_case2 = np.zeros(len(test_data['data']))\n",
    "prob_test_w2_case2 = np.zeros(len(test_data['data']))"
   ]
  },
  {
   "cell_type": "code",
   "execution_count": 161,
   "metadata": {
    "id": "gX3OblxldHm2"
   },
   "outputs": [],
   "source": [
    "prob_test_w1_case2 = (0.3 * cond_test_image_3)/tot_prob_test_x\n",
    "prob_test_w2_case2 = (0.7 * cond_test_image_7)/tot_prob_test_x"
   ]
  },
  {
   "cell_type": "code",
   "execution_count": 162,
   "metadata": {
    "id": "bciUYmk6dQcO"
   },
   "outputs": [],
   "source": [
    "P_Error_Test_case_2 = 0\n",
    "for i in range(len(test_data['data'])):\n",
    "    if prob_test_w1_case2[i] > prob_test_w2_case2[i]:\n",
    "        P_Error_Test_case_2 += prob_test_w2_case2[i]\n",
    "    else:\n",
    "        P_Error_Test_case_2 += prob_test_w1_case2[i]"
   ]
  },
  {
   "cell_type": "code",
   "execution_count": 163,
   "metadata": {
    "colab": {
     "base_uri": "https://localhost:8080/"
    },
    "id": "FC2dTOTudeUt",
    "outputId": "d9b03a5c-506c-4053-a78b-5a9c87b8e79e"
   },
   "outputs": [
    {
     "name": "stdout",
     "output_type": "stream",
     "text": [
      "P(Error) for P(3)=0.3 and P(7)=0.7 is 0.17567475918338987\n"
     ]
    }
   ],
   "source": [
    "print(f\"P(Error) for P(3)=0.3 and P(7)=0.7 is {P_Error_Test_case_2/len(test_data['data'])}\")"
   ]
  },
  {
   "cell_type": "code",
   "execution_count": 164,
   "metadata": {
    "colab": {
     "base_uri": "https://localhost:8080/"
    },
    "id": "UZ6Ccbi4dk2I",
    "outputId": "5ffbe7c4-ea50-4438-ad93-1fc1b1a66d32"
   },
   "outputs": [
    {
     "data": {
      "text/plain": [
       "506.9973550032632"
      ]
     },
     "execution_count": 164,
     "metadata": {},
     "output_type": "execute_result"
    }
   ],
   "source": [
    "P_Error_Test_case_2"
   ]
  },
  {
   "cell_type": "code",
   "execution_count": null,
   "metadata": {
    "id": "gXd68ezNdnaC"
   },
   "outputs": [],
   "source": []
  }
 ],
 "metadata": {
  "colab": {
   "name": "FSL_Project1.ipynb",
   "provenance": []
  },
  "kernelspec": {
   "display_name": "Python 3",
   "language": "python",
   "name": "python3"
  },
  "language_info": {
   "codemirror_mode": {
    "name": "ipython",
    "version": 3
   },
   "file_extension": ".py",
   "mimetype": "text/x-python",
   "name": "python",
   "nbconvert_exporter": "python",
   "pygments_lexer": "ipython3",
   "version": "3.8.8"
  }
 },
 "nbformat": 4,
 "nbformat_minor": 1
}

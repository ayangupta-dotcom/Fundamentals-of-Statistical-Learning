{
  "nbformat": 4,
  "nbformat_minor": 0,
  "metadata": {
    "colab": {
      "name": "baselineAyanGupta.ipynb",
      "provenance": [],
      "collapsed_sections": []
    },
    "kernelspec": {
      "name": "python3",
      "display_name": "Python 3"
    },
    "language_info": {
      "name": "python"
    },
    "accelerator": "GPU"
  },
  "cells": [
    {
      "cell_type": "markdown",
      "source": [
        "# **Initial Baseline Code**"
      ],
      "metadata": {
        "id": "3P3TkQGsQBpg"
      }
    },
    {
      "cell_type": "code",
      "metadata": {
        "id": "njjbgQXJI-Ez"
      },
      "source": [
        "from tensorflow import keras\n",
        "from keras.datasets import cifar10\n",
        "from keras.models import Sequential\n",
        "from keras.layers import Dense, Conv2D, MaxPooling2D, AveragePooling2D, Flatten, Dropout, BatchNormalization, Activation\n",
        "from keras import backend as K\n",
        "from tensorflow.keras.utils import to_categorical"
      ],
      "execution_count": null,
      "outputs": []
    },
    {
      "cell_type": "code",
      "metadata": {
        "id": "Fcn8TffZJLVM"
      },
      "source": [
        "batch_size = 64\n",
        "num_classes = 10\n",
        "epochs = 50"
      ],
      "execution_count": null,
      "outputs": []
    },
    {
      "cell_type": "code",
      "metadata": {
        "id": "aDKabmGIJNHj",
        "colab": {
          "base_uri": "https://localhost:8080/"
        },
        "outputId": "cf5c60c6-bfee-4ea1-8172-941f8a610b10"
      },
      "source": [
        "#  input image dimensions\n",
        "img_rows, img_cols = 32, 32\n",
        "# the data, split between train and test sets\n",
        "(x_train, y_train), (x_test, y_test) = cifar10.load_data()\n",
        "if K.image_data_format() == 'channels_first':\n",
        "  x_train = x_train.reshape(x_train.shape[0], 3, img_rows, img_cols)\n",
        "  x_test = x_test.reshape(x_test.shape[0], 3, img_rows, img_cols)\n",
        "  input_shape = (3, img_rows, img_cols)\n",
        "else:\n",
        "  x_train = x_train.reshape(x_train.shape[0], img_rows, img_cols, 3)\n",
        "  x_test = x_test.reshape(x_test.shape[0], img_rows, img_cols, 3)\n",
        "  input_shape = (img_rows, img_cols, 3)"
      ],
      "execution_count": null,
      "outputs": [
        {
          "output_type": "stream",
          "name": "stdout",
          "text": [
            "Downloading data from https://www.cs.toronto.edu/~kriz/cifar-10-python.tar.gz\n",
            "170500096/170498071 [==============================] - 5s 0us/step\n",
            "170508288/170498071 [==============================] - 5s 0us/step\n"
          ]
        }
      ]
    },
    {
      "cell_type": "code",
      "metadata": {
        "id": "PjSWJUwfJU8E",
        "colab": {
          "base_uri": "https://localhost:8080/"
        },
        "outputId": "16004612-e9db-4bce-d5ff-172d7dee7de1"
      },
      "source": [
        "x_train = x_train.astype('float32')\n",
        "x_test = x_test.astype('float32')\n",
        "x_train /= 255\n",
        "x_test /= 255\n",
        "print('x_train shape:', x_train.shape)\n",
        "print(x_train.shape[0], 'training samples')\n",
        "print(x_test.shape[0], 'testing samples')\n",
        "\n",
        "# convert class vectors to binary class matrices\n",
        "y_train = to_categorical(y_train, num_classes)\n",
        "y_test = to_categorical(y_test, num_classes)"
      ],
      "execution_count": null,
      "outputs": [
        {
          "output_type": "stream",
          "name": "stdout",
          "text": [
            "x_train shape: (50000, 32, 32, 3)\n",
            "50000 training samples\n",
            "10000 testing samples\n"
          ]
        }
      ]
    },
    {
      "cell_type": "code",
      "metadata": {
        "id": "IMupwjnAJW1J"
      },
      "source": [
        "model = Sequential()\n",
        "model.add(Conv2D(filters = 32, kernel_size = (3,3), padding='same', input_shape = input_shape))\n",
        "model.add(Activation('relu'))\n",
        "model.add(BatchNormalization())\n",
        "model.add(Conv2D(filters = 32, kernel_size = (3,3), padding='same'))\n",
        "model.add(Activation('relu'))\n",
        "model.add(BatchNormalization())\n",
        "model.add(MaxPooling2D(2,2))\n",
        "model.add(Dropout(0.2))\n",
        "\n",
        "model.add(Conv2D(filters = 64, kernel_size = (3,3), padding='same'))\n",
        "model.add(Activation('relu'))\n",
        "model.add(BatchNormalization())\n",
        "model.add(Conv2D(filters = 64, kernel_size = (3,3), padding='same'))\n",
        "model.add(Activation('relu'))\n",
        "model.add(BatchNormalization())\n",
        "model.add(MaxPooling2D(2,2))\n",
        "model.add(Dropout(0.3))\n",
        "\n",
        "model.add(Conv2D(filters = 128, kernel_size = (3,3), padding='same'))\n",
        "model.add(Activation('relu'))\n",
        "model.add(BatchNormalization())\n",
        "model.add(Conv2D(filters = 128, kernel_size = (3,3), padding='same'))\n",
        "model.add(Activation('relu'))\n",
        "model.add(BatchNormalization())\n",
        "model.add(MaxPooling2D(2,2))\n",
        "model.add(Dropout(0.4))\n",
        "\n",
        "model.add(Flatten())\n",
        "\n",
        "model.add(Dense(units = 10, activation = 'softmax'))"
      ],
      "execution_count": null,
      "outputs": []
    },
    {
      "cell_type": "code",
      "metadata": {
        "id": "g4rC8aZKJbgT",
        "colab": {
          "base_uri": "https://localhost:8080/"
        },
        "outputId": "92c4a3b9-c29a-4cd0-9c51-f1a6635ff595"
      },
      "source": [
        "# https://keras.io/optimizers/\n",
        "model.compile(loss=keras.losses.categorical_crossentropy, optimizer=keras.optimizers.Adam(lr=0.01), metrics=['accuracy'])"
      ],
      "execution_count": null,
      "outputs": [
        {
          "output_type": "stream",
          "name": "stderr",
          "text": [
            "/usr/local/lib/python3.7/dist-packages/keras/optimizer_v2/adam.py:105: UserWarning: The `lr` argument is deprecated, use `learning_rate` instead.\n",
            "  super(Adam, self).__init__(name, **kwargs)\n"
          ]
        }
      ]
    },
    {
      "cell_type": "code",
      "metadata": {
        "id": "UAPwRRVtJfVO",
        "colab": {
          "base_uri": "https://localhost:8080/"
        },
        "outputId": "8ae6bbb6-558c-4633-a592-2c23c152580f"
      },
      "source": [
        "model.fit(x_train, y_train, batch_size=batch_size, epochs=epochs, verbose=1, validation_data=(x_test, y_test))\n",
        "score = model.evaluate(x_test, y_test, verbose=0)\n",
        "print('Test loss:', score[0])\n",
        "print('Test accuracy:', score[1])"
      ],
      "execution_count": null,
      "outputs": [
        {
          "output_type": "stream",
          "name": "stdout",
          "text": [
            "Epoch 1/50\n",
            "782/782 [==============================] - 30s 25ms/step - loss: 1.9725 - accuracy: 0.4206 - val_loss: 1.6163 - val_accuracy: 0.4510\n",
            "Epoch 2/50\n",
            "782/782 [==============================] - 19s 24ms/step - loss: 1.1196 - accuracy: 0.6004 - val_loss: 1.1238 - val_accuracy: 0.6041\n",
            "Epoch 3/50\n",
            "782/782 [==============================] - 19s 24ms/step - loss: 0.9453 - accuracy: 0.6673 - val_loss: 0.9411 - val_accuracy: 0.6708\n",
            "Epoch 4/50\n",
            "782/782 [==============================] - 19s 24ms/step - loss: 0.8504 - accuracy: 0.7032 - val_loss: 0.7945 - val_accuracy: 0.7253\n",
            "Epoch 5/50\n",
            "782/782 [==============================] - 19s 24ms/step - loss: 0.7894 - accuracy: 0.7252 - val_loss: 0.8240 - val_accuracy: 0.7282\n",
            "Epoch 6/50\n",
            "782/782 [==============================] - 19s 24ms/step - loss: 0.7427 - accuracy: 0.7450 - val_loss: 0.7855 - val_accuracy: 0.7302\n",
            "Epoch 7/50\n",
            "782/782 [==============================] - 19s 24ms/step - loss: 0.7142 - accuracy: 0.7515 - val_loss: 0.6789 - val_accuracy: 0.7691\n",
            "Epoch 8/50\n",
            "782/782 [==============================] - 19s 24ms/step - loss: 0.6849 - accuracy: 0.7628 - val_loss: 0.6696 - val_accuracy: 0.7775\n",
            "Epoch 9/50\n",
            "782/782 [==============================] - 19s 24ms/step - loss: 0.6544 - accuracy: 0.7751 - val_loss: 0.6772 - val_accuracy: 0.7688\n",
            "Epoch 10/50\n",
            "782/782 [==============================] - 19s 24ms/step - loss: 0.6313 - accuracy: 0.7829 - val_loss: 0.6715 - val_accuracy: 0.7805\n",
            "Epoch 11/50\n",
            "782/782 [==============================] - 19s 24ms/step - loss: 0.6116 - accuracy: 0.7913 - val_loss: 0.8995 - val_accuracy: 0.7204\n",
            "Epoch 12/50\n",
            "782/782 [==============================] - 19s 24ms/step - loss: 0.5895 - accuracy: 0.7977 - val_loss: 0.6965 - val_accuracy: 0.7703\n",
            "Epoch 13/50\n",
            "782/782 [==============================] - 19s 24ms/step - loss: 0.5704 - accuracy: 0.8043 - val_loss: 0.6351 - val_accuracy: 0.7953\n",
            "Epoch 14/50\n",
            "782/782 [==============================] - 19s 24ms/step - loss: 0.5641 - accuracy: 0.8073 - val_loss: 0.7364 - val_accuracy: 0.7543\n",
            "Epoch 15/50\n",
            "782/782 [==============================] - 18s 24ms/step - loss: 0.5377 - accuracy: 0.8150 - val_loss: 0.6461 - val_accuracy: 0.7970\n",
            "Epoch 16/50\n",
            "782/782 [==============================] - 19s 24ms/step - loss: 0.5311 - accuracy: 0.8191 - val_loss: 0.6170 - val_accuracy: 0.7997\n",
            "Epoch 17/50\n",
            "782/782 [==============================] - 19s 24ms/step - loss: 0.5189 - accuracy: 0.8220 - val_loss: 0.6048 - val_accuracy: 0.7992\n",
            "Epoch 18/50\n",
            "782/782 [==============================] - 19s 24ms/step - loss: 0.5035 - accuracy: 0.8296 - val_loss: 0.5592 - val_accuracy: 0.8174\n",
            "Epoch 19/50\n",
            "782/782 [==============================] - 18s 24ms/step - loss: 0.4992 - accuracy: 0.8292 - val_loss: 0.5930 - val_accuracy: 0.8086\n",
            "Epoch 20/50\n",
            "782/782 [==============================] - 19s 24ms/step - loss: 0.4800 - accuracy: 0.8362 - val_loss: 0.5418 - val_accuracy: 0.8217\n",
            "Epoch 21/50\n",
            "782/782 [==============================] - 19s 24ms/step - loss: 0.4751 - accuracy: 0.8372 - val_loss: 0.5577 - val_accuracy: 0.8184\n",
            "Epoch 22/50\n",
            "782/782 [==============================] - 19s 24ms/step - loss: 0.4659 - accuracy: 0.8399 - val_loss: 0.5652 - val_accuracy: 0.8188\n",
            "Epoch 23/50\n",
            "782/782 [==============================] - 19s 24ms/step - loss: 0.4576 - accuracy: 0.8433 - val_loss: 0.6359 - val_accuracy: 0.8031\n",
            "Epoch 24/50\n",
            "782/782 [==============================] - 19s 24ms/step - loss: 0.4433 - accuracy: 0.8473 - val_loss: 0.7250 - val_accuracy: 0.7864\n",
            "Epoch 25/50\n",
            "782/782 [==============================] - 19s 24ms/step - loss: 0.4389 - accuracy: 0.8497 - val_loss: 0.5378 - val_accuracy: 0.8272\n",
            "Epoch 26/50\n",
            "782/782 [==============================] - 19s 24ms/step - loss: 0.4309 - accuracy: 0.8526 - val_loss: 0.6348 - val_accuracy: 0.8149\n",
            "Epoch 27/50\n",
            "782/782 [==============================] - 19s 24ms/step - loss: 0.4331 - accuracy: 0.8519 - val_loss: 0.5838 - val_accuracy: 0.8220\n",
            "Epoch 28/50\n",
            "782/782 [==============================] - 19s 24ms/step - loss: 0.4234 - accuracy: 0.8550 - val_loss: 0.5717 - val_accuracy: 0.8258\n",
            "Epoch 29/50\n",
            "782/782 [==============================] - 19s 24ms/step - loss: 0.4110 - accuracy: 0.8593 - val_loss: 0.5784 - val_accuracy: 0.8214\n",
            "Epoch 30/50\n",
            "782/782 [==============================] - 19s 24ms/step - loss: 0.4073 - accuracy: 0.8621 - val_loss: 0.5608 - val_accuracy: 0.8310\n",
            "Epoch 31/50\n",
            "782/782 [==============================] - 19s 24ms/step - loss: 0.3999 - accuracy: 0.8640 - val_loss: 0.5978 - val_accuracy: 0.8270\n",
            "Epoch 32/50\n",
            "782/782 [==============================] - 19s 24ms/step - loss: 0.3937 - accuracy: 0.8654 - val_loss: 0.6226 - val_accuracy: 0.8192\n",
            "Epoch 33/50\n",
            "782/782 [==============================] - 19s 24ms/step - loss: 0.3964 - accuracy: 0.8652 - val_loss: 0.5403 - val_accuracy: 0.8357\n",
            "Epoch 34/50\n",
            "782/782 [==============================] - 19s 24ms/step - loss: 0.3845 - accuracy: 0.8670 - val_loss: 0.6625 - val_accuracy: 0.8017\n",
            "Epoch 35/50\n",
            "782/782 [==============================] - 19s 24ms/step - loss: 0.3828 - accuracy: 0.8701 - val_loss: 0.5553 - val_accuracy: 0.8413\n",
            "Epoch 36/50\n",
            "782/782 [==============================] - 19s 24ms/step - loss: 0.3782 - accuracy: 0.8711 - val_loss: 0.5226 - val_accuracy: 0.8351\n",
            "Epoch 37/50\n",
            "782/782 [==============================] - 19s 24ms/step - loss: 0.3684 - accuracy: 0.8733 - val_loss: 0.5759 - val_accuracy: 0.8295\n",
            "Epoch 38/50\n",
            "782/782 [==============================] - 19s 24ms/step - loss: 0.3681 - accuracy: 0.8743 - val_loss: 0.6121 - val_accuracy: 0.8243\n",
            "Epoch 39/50\n",
            "782/782 [==============================] - 19s 24ms/step - loss: 0.3630 - accuracy: 0.8755 - val_loss: 0.6638 - val_accuracy: 0.8146\n",
            "Epoch 40/50\n",
            "782/782 [==============================] - 19s 24ms/step - loss: 0.3672 - accuracy: 0.8752 - val_loss: 0.6736 - val_accuracy: 0.8159\n",
            "Epoch 41/50\n",
            "782/782 [==============================] - 19s 24ms/step - loss: 0.3592 - accuracy: 0.8775 - val_loss: 0.5521 - val_accuracy: 0.8405\n",
            "Epoch 42/50\n",
            "782/782 [==============================] - 19s 24ms/step - loss: 0.3510 - accuracy: 0.8816 - val_loss: 0.5509 - val_accuracy: 0.8382\n",
            "Epoch 43/50\n",
            "782/782 [==============================] - 19s 24ms/step - loss: 0.3500 - accuracy: 0.8805 - val_loss: 0.5946 - val_accuracy: 0.8294\n",
            "Epoch 44/50\n",
            "782/782 [==============================] - 19s 24ms/step - loss: 0.3410 - accuracy: 0.8852 - val_loss: 0.5844 - val_accuracy: 0.8373\n",
            "Epoch 45/50\n",
            "782/782 [==============================] - 19s 24ms/step - loss: 0.3466 - accuracy: 0.8823 - val_loss: 0.5202 - val_accuracy: 0.8492\n",
            "Epoch 46/50\n",
            "782/782 [==============================] - 19s 24ms/step - loss: 0.3391 - accuracy: 0.8855 - val_loss: 0.5638 - val_accuracy: 0.8340\n",
            "Epoch 47/50\n",
            "782/782 [==============================] - 19s 24ms/step - loss: 0.3441 - accuracy: 0.8834 - val_loss: 0.5210 - val_accuracy: 0.8477\n",
            "Epoch 48/50\n",
            "782/782 [==============================] - 19s 25ms/step - loss: 0.3283 - accuracy: 0.8895 - val_loss: 0.5656 - val_accuracy: 0.8461\n",
            "Epoch 49/50\n",
            "782/782 [==============================] - 19s 24ms/step - loss: 0.3310 - accuracy: 0.8886 - val_loss: 0.5447 - val_accuracy: 0.8454\n",
            "Epoch 50/50\n",
            "782/782 [==============================] - 19s 24ms/step - loss: 0.3333 - accuracy: 0.8873 - val_loss: 0.5727 - val_accuracy: 0.8361\n",
            "Test loss: 0.5727108120918274\n",
            "Test accuracy: 0.8360999822616577\n"
          ]
        }
      ]
    },
    {
      "cell_type": "markdown",
      "source": [
        "# **Step a) Change learning rate to – i) 0.1**"
      ],
      "metadata": {
        "id": "q0Q0cex9x8E-"
      }
    },
    {
      "cell_type": "code",
      "source": [
        "# https://keras.io/optimizers/\n",
        "model.compile(loss=keras.losses.categorical_crossentropy, optimizer=keras.optimizers.Adam(lr=0.1), metrics=['accuracy'])"
      ],
      "metadata": {
        "colab": {
          "base_uri": "https://localhost:8080/"
        },
        "id": "q_5XY3YryAW2",
        "outputId": "cf4f67f0-28ae-4e79-ac76-66794e47878d"
      },
      "execution_count": null,
      "outputs": [
        {
          "output_type": "stream",
          "name": "stderr",
          "text": [
            "/usr/local/lib/python3.7/dist-packages/keras/optimizer_v2/adam.py:105: UserWarning: The `lr` argument is deprecated, use `learning_rate` instead.\n",
            "  super(Adam, self).__init__(name, **kwargs)\n"
          ]
        }
      ]
    },
    {
      "cell_type": "code",
      "source": [
        "model.fit(x_train, y_train, batch_size=batch_size, epochs=epochs, verbose=1, validation_data=(x_test, y_test))\n",
        "score = model.evaluate(x_test, y_test, verbose=0)\n",
        "print('Test loss:', score[0])\n",
        "print('Test accuracy:', score[1])"
      ],
      "metadata": {
        "colab": {
          "base_uri": "https://localhost:8080/"
        },
        "id": "RUZT_jZ1yB3q",
        "outputId": "646a250a-3c35-4e99-b724-0e9b1c17d408"
      },
      "execution_count": null,
      "outputs": [
        {
          "output_type": "stream",
          "name": "stdout",
          "text": [
            "Epoch 1/50\n",
            "782/782 [==============================] - 21s 25ms/step - loss: 3.4201 - accuracy: 0.4978 - val_loss: 2.1757 - val_accuracy: 0.5201\n",
            "Epoch 2/50\n",
            "782/782 [==============================] - 19s 24ms/step - loss: 1.8391 - accuracy: 0.5632 - val_loss: 1.9833 - val_accuracy: 0.5559\n",
            "Epoch 3/50\n",
            "782/782 [==============================] - 19s 24ms/step - loss: 2.4291 - accuracy: 0.6045 - val_loss: 4.8980 - val_accuracy: 0.4681\n",
            "Epoch 4/50\n",
            "782/782 [==============================] - 19s 24ms/step - loss: 2.6493 - accuracy: 0.6086 - val_loss: 648.7352 - val_accuracy: 0.5523\n",
            "Epoch 5/50\n",
            "782/782 [==============================] - 19s 24ms/step - loss: 2.4596 - accuracy: 0.6476 - val_loss: 3.3539 - val_accuracy: 0.5853\n",
            "Epoch 6/50\n",
            "782/782 [==============================] - 19s 24ms/step - loss: 2.9200 - accuracy: 0.6569 - val_loss: 2.9992 - val_accuracy: 0.6651\n",
            "Epoch 7/50\n",
            "782/782 [==============================] - 19s 24ms/step - loss: 2.8539 - accuracy: 0.6710 - val_loss: 4.3167 - val_accuracy: 0.6097\n",
            "Epoch 8/50\n",
            "782/782 [==============================] - 19s 24ms/step - loss: 2.8940 - accuracy: 0.6797 - val_loss: 3.7891 - val_accuracy: 0.5977\n",
            "Epoch 9/50\n",
            "782/782 [==============================] - 19s 24ms/step - loss: 2.7838 - accuracy: 0.6945 - val_loss: 2.8257 - val_accuracy: 0.7153\n",
            "Epoch 10/50\n",
            "782/782 [==============================] - 19s 24ms/step - loss: 3.0807 - accuracy: 0.7001 - val_loss: 3.5290 - val_accuracy: 0.6803\n",
            "Epoch 11/50\n",
            "782/782 [==============================] - 19s 24ms/step - loss: 3.1075 - accuracy: 0.7096 - val_loss: 2.4452 - val_accuracy: 0.7154\n",
            "Epoch 12/50\n",
            "782/782 [==============================] - 19s 24ms/step - loss: 3.0062 - accuracy: 0.7196 - val_loss: 2.9444 - val_accuracy: 0.7312\n",
            "Epoch 13/50\n",
            "782/782 [==============================] - 19s 25ms/step - loss: 3.0617 - accuracy: 0.7230 - val_loss: 3.7396 - val_accuracy: 0.7339\n",
            "Epoch 14/50\n",
            "782/782 [==============================] - 19s 25ms/step - loss: 3.3814 - accuracy: 0.7260 - val_loss: 2.5211 - val_accuracy: 0.7569\n",
            "Epoch 15/50\n",
            "782/782 [==============================] - 19s 24ms/step - loss: 2.9781 - accuracy: 0.7381 - val_loss: 3.1028 - val_accuracy: 0.7769\n",
            "Epoch 16/50\n",
            "782/782 [==============================] - 19s 25ms/step - loss: 3.3772 - accuracy: 0.7367 - val_loss: 5.9720 - val_accuracy: 0.6682\n",
            "Epoch 17/50\n",
            "782/782 [==============================] - 19s 24ms/step - loss: 3.3500 - accuracy: 0.7465 - val_loss: 2.6369 - val_accuracy: 0.7716\n",
            "Epoch 18/50\n",
            "782/782 [==============================] - 19s 24ms/step - loss: 3.1557 - accuracy: 0.7525 - val_loss: 2.8905 - val_accuracy: 0.7675\n",
            "Epoch 19/50\n",
            "782/782 [==============================] - 19s 24ms/step - loss: 3.1908 - accuracy: 0.7572 - val_loss: 2.8801 - val_accuracy: 0.7628\n",
            "Epoch 20/50\n",
            "782/782 [==============================] - 19s 24ms/step - loss: 3.6222 - accuracy: 0.7529 - val_loss: 3.5098 - val_accuracy: 0.7539\n",
            "Epoch 21/50\n",
            "782/782 [==============================] - 19s 24ms/step - loss: 3.3106 - accuracy: 0.7639 - val_loss: 3.6797 - val_accuracy: 0.7705\n",
            "Epoch 22/50\n",
            "782/782 [==============================] - 19s 24ms/step - loss: 3.4568 - accuracy: 0.7648 - val_loss: 3.5857 - val_accuracy: 0.7565\n",
            "Epoch 23/50\n",
            "782/782 [==============================] - 19s 24ms/step - loss: 3.5337 - accuracy: 0.7686 - val_loss: 2.8757 - val_accuracy: 0.7917\n",
            "Epoch 24/50\n",
            "782/782 [==============================] - 19s 24ms/step - loss: 3.4527 - accuracy: 0.7707 - val_loss: 4.2418 - val_accuracy: 0.7861\n",
            "Epoch 25/50\n",
            "782/782 [==============================] - 19s 24ms/step - loss: 3.3679 - accuracy: 0.7766 - val_loss: 3.0535 - val_accuracy: 0.7945\n",
            "Epoch 26/50\n",
            "782/782 [==============================] - 19s 24ms/step - loss: 3.4003 - accuracy: 0.7795 - val_loss: 4.6947 - val_accuracy: 0.7166\n",
            "Epoch 27/50\n",
            "782/782 [==============================] - 19s 24ms/step - loss: 3.4929 - accuracy: 0.7793 - val_loss: 3.3136 - val_accuracy: 0.7951\n",
            "Epoch 28/50\n",
            "782/782 [==============================] - 19s 24ms/step - loss: 3.7378 - accuracy: 0.7825 - val_loss: 3.4337 - val_accuracy: 0.7910\n",
            "Epoch 29/50\n",
            "782/782 [==============================] - 20s 25ms/step - loss: 3.5659 - accuracy: 0.7839 - val_loss: 6.1662 - val_accuracy: 0.7111\n",
            "Epoch 30/50\n",
            "782/782 [==============================] - 19s 25ms/step - loss: 3.6945 - accuracy: 0.7849 - val_loss: 3.1565 - val_accuracy: 0.7866\n",
            "Epoch 31/50\n",
            "782/782 [==============================] - 19s 25ms/step - loss: 3.4637 - accuracy: 0.7922 - val_loss: 6.1124 - val_accuracy: 0.7435\n",
            "Epoch 32/50\n",
            "782/782 [==============================] - 19s 24ms/step - loss: 3.6364 - accuracy: 0.7920 - val_loss: 4.3377 - val_accuracy: 0.7703\n",
            "Epoch 33/50\n",
            "782/782 [==============================] - 19s 25ms/step - loss: 3.7664 - accuracy: 0.7954 - val_loss: 3.7369 - val_accuracy: 0.8060\n",
            "Epoch 34/50\n",
            "782/782 [==============================] - 19s 25ms/step - loss: 3.6482 - accuracy: 0.7967 - val_loss: 4.2362 - val_accuracy: 0.7910\n",
            "Epoch 35/50\n",
            "782/782 [==============================] - 19s 24ms/step - loss: 3.7458 - accuracy: 0.7980 - val_loss: 3.7340 - val_accuracy: 0.8080\n",
            "Epoch 36/50\n",
            "782/782 [==============================] - 19s 25ms/step - loss: 3.5512 - accuracy: 0.8003 - val_loss: 3.3876 - val_accuracy: 0.8228\n",
            "Epoch 37/50\n",
            "782/782 [==============================] - 19s 25ms/step - loss: 3.7725 - accuracy: 0.8022 - val_loss: 3.9977 - val_accuracy: 0.7970\n",
            "Epoch 38/50\n",
            "782/782 [==============================] - 19s 25ms/step - loss: 3.7968 - accuracy: 0.8032 - val_loss: 3.4965 - val_accuracy: 0.8274\n",
            "Epoch 39/50\n",
            "782/782 [==============================] - 19s 24ms/step - loss: 3.8073 - accuracy: 0.8076 - val_loss: 4.1664 - val_accuracy: 0.8166\n",
            "Epoch 40/50\n",
            "782/782 [==============================] - 19s 25ms/step - loss: 3.6064 - accuracy: 0.8097 - val_loss: 4.2225 - val_accuracy: 0.8014\n",
            "Epoch 41/50\n",
            "782/782 [==============================] - 19s 24ms/step - loss: 3.9073 - accuracy: 0.8089 - val_loss: 3.4035 - val_accuracy: 0.8152\n",
            "Epoch 42/50\n",
            "782/782 [==============================] - 19s 24ms/step - loss: 3.7797 - accuracy: 0.8118 - val_loss: 3.6288 - val_accuracy: 0.8275\n",
            "Epoch 43/50\n",
            "782/782 [==============================] - 19s 25ms/step - loss: 3.8653 - accuracy: 0.8150 - val_loss: 4.7943 - val_accuracy: 0.7858\n",
            "Epoch 44/50\n",
            "782/782 [==============================] - 19s 24ms/step - loss: 3.9455 - accuracy: 0.8126 - val_loss: 4.8994 - val_accuracy: 0.7914\n",
            "Epoch 45/50\n",
            "782/782 [==============================] - 19s 24ms/step - loss: 3.9145 - accuracy: 0.8160 - val_loss: 4.2051 - val_accuracy: 0.8162\n",
            "Epoch 46/50\n",
            "782/782 [==============================] - 19s 24ms/step - loss: 3.9073 - accuracy: 0.8179 - val_loss: 3.9985 - val_accuracy: 0.8266\n",
            "Epoch 47/50\n",
            "782/782 [==============================] - 19s 24ms/step - loss: 3.9088 - accuracy: 0.8196 - val_loss: 5.4087 - val_accuracy: 0.7967\n",
            "Epoch 48/50\n",
            "782/782 [==============================] - 19s 24ms/step - loss: 3.9316 - accuracy: 0.8203 - val_loss: 3.9908 - val_accuracy: 0.8149\n",
            "Epoch 49/50\n",
            "782/782 [==============================] - 19s 24ms/step - loss: 3.7458 - accuracy: 0.8222 - val_loss: 4.8761 - val_accuracy: 0.8004\n",
            "Epoch 50/50\n",
            "782/782 [==============================] - 19s 24ms/step - loss: 3.8364 - accuracy: 0.8231 - val_loss: 4.7259 - val_accuracy: 0.8116\n",
            "Test loss: 4.725895404815674\n",
            "Test accuracy: 0.8116000294685364\n"
          ]
        }
      ]
    },
    {
      "cell_type": "markdown",
      "source": [
        "# **Step a) Change learning rate to – ii) 0.001**"
      ],
      "metadata": {
        "id": "a2j3wt341Hi8"
      }
    },
    {
      "cell_type": "code",
      "source": [
        "# https://keras.io/optimizers/\n",
        "model.compile(loss=keras.losses.categorical_crossentropy, optimizer=keras.optimizers.Adam(lr=0.001), metrics=['accuracy'])"
      ],
      "metadata": {
        "colab": {
          "base_uri": "https://localhost:8080/"
        },
        "id": "iCJOrhsY3Jum",
        "outputId": "7fffe7e8-0f04-4218-f8a9-3d97167bda2c"
      },
      "execution_count": null,
      "outputs": [
        {
          "output_type": "stream",
          "name": "stderr",
          "text": [
            "/usr/local/lib/python3.7/dist-packages/keras/optimizer_v2/adam.py:105: UserWarning: The `lr` argument is deprecated, use `learning_rate` instead.\n",
            "  super(Adam, self).__init__(name, **kwargs)\n"
          ]
        }
      ]
    },
    {
      "cell_type": "code",
      "source": [
        "model.fit(x_train, y_train, batch_size=batch_size, epochs=epochs, verbose=1, validation_data=(x_test, y_test))\n",
        "score = model.evaluate(x_test, y_test, verbose=0)\n",
        "print('Test loss:', score[0])\n",
        "print('Test accuracy:', score[1])"
      ],
      "metadata": {
        "colab": {
          "base_uri": "https://localhost:8080/"
        },
        "id": "UxFMUJF13Npp",
        "outputId": "448300b2-2cba-4d58-e9fd-badffc86e28e"
      },
      "execution_count": null,
      "outputs": [
        {
          "output_type": "stream",
          "name": "stdout",
          "text": [
            "Epoch 1/50\n",
            "782/782 [==============================] - 21s 25ms/step - loss: 2.1483 - accuracy: 0.8767 - val_loss: 3.2099 - val_accuracy: 0.8542\n",
            "Epoch 2/50\n",
            "782/782 [==============================] - 19s 24ms/step - loss: 1.7302 - accuracy: 0.8865 - val_loss: 2.9555 - val_accuracy: 0.8561\n",
            "Epoch 3/50\n",
            "782/782 [==============================] - 19s 24ms/step - loss: 1.5631 - accuracy: 0.8882 - val_loss: 2.7217 - val_accuracy: 0.8563\n",
            "Epoch 4/50\n",
            "782/782 [==============================] - 19s 24ms/step - loss: 1.3652 - accuracy: 0.8908 - val_loss: 2.5427 - val_accuracy: 0.8567\n",
            "Epoch 5/50\n",
            "782/782 [==============================] - 19s 25ms/step - loss: 1.2853 - accuracy: 0.8919 - val_loss: 2.3647 - val_accuracy: 0.8581\n",
            "Epoch 6/50\n",
            "782/782 [==============================] - 19s 24ms/step - loss: 1.1890 - accuracy: 0.8911 - val_loss: 2.1950 - val_accuracy: 0.8578\n",
            "Epoch 7/50\n",
            "782/782 [==============================] - 19s 24ms/step - loss: 1.0979 - accuracy: 0.8921 - val_loss: 2.0515 - val_accuracy: 0.8575\n",
            "Epoch 8/50\n",
            "782/782 [==============================] - 19s 24ms/step - loss: 1.0060 - accuracy: 0.8929 - val_loss: 1.9201 - val_accuracy: 0.8585\n",
            "Epoch 9/50\n",
            "782/782 [==============================] - 19s 24ms/step - loss: 0.9552 - accuracy: 0.8924 - val_loss: 1.7995 - val_accuracy: 0.8578\n",
            "Epoch 10/50\n",
            "782/782 [==============================] - 19s 24ms/step - loss: 0.8986 - accuracy: 0.8909 - val_loss: 1.7094 - val_accuracy: 0.8575\n",
            "Epoch 11/50\n",
            "782/782 [==============================] - 19s 24ms/step - loss: 0.8181 - accuracy: 0.8944 - val_loss: 1.5827 - val_accuracy: 0.8606\n",
            "Epoch 12/50\n",
            "782/782 [==============================] - 19s 24ms/step - loss: 0.7720 - accuracy: 0.8925 - val_loss: 1.5105 - val_accuracy: 0.8579\n",
            "Epoch 13/50\n",
            "782/782 [==============================] - 19s 24ms/step - loss: 0.7207 - accuracy: 0.8929 - val_loss: 1.4164 - val_accuracy: 0.8579\n",
            "Epoch 14/50\n",
            "782/782 [==============================] - 19s 24ms/step - loss: 0.6645 - accuracy: 0.8961 - val_loss: 1.3398 - val_accuracy: 0.8578\n",
            "Epoch 15/50\n",
            "782/782 [==============================] - 19s 24ms/step - loss: 0.6471 - accuracy: 0.8948 - val_loss: 1.2640 - val_accuracy: 0.8564\n",
            "Epoch 16/50\n",
            "782/782 [==============================] - 19s 24ms/step - loss: 0.6009 - accuracy: 0.8965 - val_loss: 1.1904 - val_accuracy: 0.8589\n",
            "Epoch 17/50\n",
            "782/782 [==============================] - 19s 24ms/step - loss: 0.5816 - accuracy: 0.8955 - val_loss: 1.1178 - val_accuracy: 0.8597\n",
            "Epoch 18/50\n",
            "782/782 [==============================] - 19s 24ms/step - loss: 0.5376 - accuracy: 0.8955 - val_loss: 1.0711 - val_accuracy: 0.8601\n",
            "Epoch 19/50\n",
            "782/782 [==============================] - 19s 24ms/step - loss: 0.5207 - accuracy: 0.8952 - val_loss: 1.0192 - val_accuracy: 0.8585\n",
            "Epoch 20/50\n",
            "782/782 [==============================] - 19s 24ms/step - loss: 0.4991 - accuracy: 0.8954 - val_loss: 0.9637 - val_accuracy: 0.8591\n",
            "Epoch 21/50\n",
            "782/782 [==============================] - 19s 24ms/step - loss: 0.4548 - accuracy: 0.8977 - val_loss: 0.9118 - val_accuracy: 0.8607\n",
            "Epoch 22/50\n",
            "782/782 [==============================] - 19s 24ms/step - loss: 0.4433 - accuracy: 0.8950 - val_loss: 0.8680 - val_accuracy: 0.8602\n",
            "Epoch 23/50\n",
            "782/782 [==============================] - 19s 24ms/step - loss: 0.4253 - accuracy: 0.8968 - val_loss: 0.8339 - val_accuracy: 0.8596\n",
            "Epoch 24/50\n",
            "782/782 [==============================] - 19s 24ms/step - loss: 0.4128 - accuracy: 0.8966 - val_loss: 0.7974 - val_accuracy: 0.8604\n",
            "Epoch 25/50\n",
            "782/782 [==============================] - 19s 24ms/step - loss: 0.3980 - accuracy: 0.8974 - val_loss: 0.7601 - val_accuracy: 0.8609\n",
            "Epoch 26/50\n",
            "782/782 [==============================] - 19s 24ms/step - loss: 0.3828 - accuracy: 0.8985 - val_loss: 0.7295 - val_accuracy: 0.8623\n",
            "Epoch 27/50\n",
            "782/782 [==============================] - 19s 24ms/step - loss: 0.3637 - accuracy: 0.8984 - val_loss: 0.7232 - val_accuracy: 0.8574\n",
            "Epoch 28/50\n",
            "782/782 [==============================] - 19s 24ms/step - loss: 0.3530 - accuracy: 0.8987 - val_loss: 0.6843 - val_accuracy: 0.8616\n",
            "Epoch 29/50\n",
            "782/782 [==============================] - 19s 24ms/step - loss: 0.3511 - accuracy: 0.8984 - val_loss: 0.6664 - val_accuracy: 0.8611\n",
            "Epoch 30/50\n",
            "782/782 [==============================] - 19s 24ms/step - loss: 0.3480 - accuracy: 0.8990 - val_loss: 0.6441 - val_accuracy: 0.8624\n",
            "Epoch 31/50\n",
            "782/782 [==============================] - 19s 24ms/step - loss: 0.3294 - accuracy: 0.9009 - val_loss: 0.6309 - val_accuracy: 0.8626\n",
            "Epoch 32/50\n",
            "782/782 [==============================] - 19s 24ms/step - loss: 0.3295 - accuracy: 0.8997 - val_loss: 0.6118 - val_accuracy: 0.8633\n",
            "Epoch 33/50\n",
            "782/782 [==============================] - 19s 24ms/step - loss: 0.3207 - accuracy: 0.9020 - val_loss: 0.6060 - val_accuracy: 0.8637\n",
            "Epoch 34/50\n",
            "782/782 [==============================] - 19s 24ms/step - loss: 0.3214 - accuracy: 0.8989 - val_loss: 0.6054 - val_accuracy: 0.8618\n",
            "Epoch 35/50\n",
            "782/782 [==============================] - 19s 24ms/step - loss: 0.3116 - accuracy: 0.9005 - val_loss: 0.5772 - val_accuracy: 0.8638\n",
            "Epoch 36/50\n",
            "782/782 [==============================] - 19s 24ms/step - loss: 0.3076 - accuracy: 0.9014 - val_loss: 0.5685 - val_accuracy: 0.8639\n",
            "Epoch 37/50\n",
            "782/782 [==============================] - 19s 24ms/step - loss: 0.3055 - accuracy: 0.9015 - val_loss: 0.5730 - val_accuracy: 0.8631\n",
            "Epoch 38/50\n",
            "782/782 [==============================] - 19s 24ms/step - loss: 0.3074 - accuracy: 0.9008 - val_loss: 0.5591 - val_accuracy: 0.8643\n",
            "Epoch 39/50\n",
            "782/782 [==============================] - 19s 24ms/step - loss: 0.3045 - accuracy: 0.9013 - val_loss: 0.5573 - val_accuracy: 0.8614\n",
            "Epoch 40/50\n",
            "782/782 [==============================] - 19s 24ms/step - loss: 0.2964 - accuracy: 0.9022 - val_loss: 0.5490 - val_accuracy: 0.8631\n",
            "Epoch 41/50\n",
            "782/782 [==============================] - 19s 24ms/step - loss: 0.2939 - accuracy: 0.9026 - val_loss: 0.5386 - val_accuracy: 0.8666\n",
            "Epoch 42/50\n",
            "782/782 [==============================] - 19s 24ms/step - loss: 0.2960 - accuracy: 0.9038 - val_loss: 0.5310 - val_accuracy: 0.8651\n",
            "Epoch 43/50\n",
            "782/782 [==============================] - 19s 24ms/step - loss: 0.2935 - accuracy: 0.9032 - val_loss: 0.5322 - val_accuracy: 0.8645\n",
            "Epoch 44/50\n",
            "782/782 [==============================] - 19s 24ms/step - loss: 0.2912 - accuracy: 0.9039 - val_loss: 0.5265 - val_accuracy: 0.8658\n",
            "Epoch 45/50\n",
            "782/782 [==============================] - 19s 24ms/step - loss: 0.2878 - accuracy: 0.9039 - val_loss: 0.5514 - val_accuracy: 0.8600\n",
            "Epoch 46/50\n",
            "782/782 [==============================] - 19s 24ms/step - loss: 0.2808 - accuracy: 0.9059 - val_loss: 0.5262 - val_accuracy: 0.8643\n",
            "Epoch 47/50\n",
            "782/782 [==============================] - 19s 24ms/step - loss: 0.2845 - accuracy: 0.9042 - val_loss: 0.5174 - val_accuracy: 0.8684\n",
            "Epoch 48/50\n",
            "782/782 [==============================] - 19s 24ms/step - loss: 0.2790 - accuracy: 0.9060 - val_loss: 0.5192 - val_accuracy: 0.8646\n",
            "Epoch 49/50\n",
            "782/782 [==============================] - 19s 24ms/step - loss: 0.2800 - accuracy: 0.9054 - val_loss: 0.5107 - val_accuracy: 0.8675\n",
            "Epoch 50/50\n",
            "782/782 [==============================] - 19s 24ms/step - loss: 0.2767 - accuracy: 0.9063 - val_loss: 0.5237 - val_accuracy: 0.8642\n",
            "Test loss: 0.5236914753913879\n",
            "Test accuracy: 0.8641999959945679\n"
          ]
        }
      ]
    },
    {
      "cell_type": "markdown",
      "source": [
        "# **Step b) Change kernel size for first convolutional layer to 5x5 **"
      ],
      "metadata": {
        "id": "YYTrrYc79PSS"
      }
    },
    {
      "cell_type": "code",
      "source": [
        "model = Sequential()\n",
        "model.add(Conv2D(filters = 32, kernel_size = (5,5), padding='same', input_shape = input_shape))\n",
        "model.add(Activation('relu'))\n",
        "model.add(BatchNormalization())\n",
        "model.add(Conv2D(filters = 32, kernel_size = (3,3), padding='same'))\n",
        "model.add(Activation('relu'))\n",
        "model.add(BatchNormalization())\n",
        "model.add(MaxPooling2D(2,2))\n",
        "model.add(Dropout(0.2))\n",
        "\n",
        "model.add(Conv2D(filters = 64, kernel_size = (3,3), padding='same'))\n",
        "model.add(Activation('relu'))\n",
        "model.add(BatchNormalization())\n",
        "model.add(Conv2D(filters = 64, kernel_size = (3,3), padding='same'))\n",
        "model.add(Activation('relu'))\n",
        "model.add(BatchNormalization())\n",
        "model.add(MaxPooling2D(2,2))\n",
        "model.add(Dropout(0.3))\n",
        "\n",
        "model.add(Conv2D(filters = 128, kernel_size = (3,3), padding='same'))\n",
        "model.add(Activation('relu'))\n",
        "model.add(BatchNormalization())\n",
        "model.add(Conv2D(filters = 128, kernel_size = (3,3), padding='same'))\n",
        "model.add(Activation('relu'))\n",
        "model.add(BatchNormalization())\n",
        "model.add(MaxPooling2D(2,2))\n",
        "model.add(Dropout(0.4))\n",
        "\n",
        "model.add(Flatten())\n",
        "\n",
        "model.add(Dense(units = 10, activation = 'softmax'))"
      ],
      "metadata": {
        "id": "vFT7y5i69Iat"
      },
      "execution_count": null,
      "outputs": []
    },
    {
      "cell_type": "code",
      "source": [
        "# https://keras.io/optimizers/\n",
        "model.compile(loss=keras.losses.categorical_crossentropy, optimizer=keras.optimizers.Adam(lr=0.01), metrics=['accuracy'])"
      ],
      "metadata": {
        "colab": {
          "base_uri": "https://localhost:8080/"
        },
        "id": "6USxjttQ9Qdm",
        "outputId": "02f40d56-3874-403e-8c5c-9058e3956f48"
      },
      "execution_count": null,
      "outputs": [
        {
          "output_type": "stream",
          "name": "stderr",
          "text": [
            "/usr/local/lib/python3.7/dist-packages/keras/optimizer_v2/adam.py:105: UserWarning: The `lr` argument is deprecated, use `learning_rate` instead.\n",
            "  super(Adam, self).__init__(name, **kwargs)\n"
          ]
        }
      ]
    },
    {
      "cell_type": "code",
      "source": [
        "model.fit(x_train, y_train, batch_size=batch_size, epochs=epochs, verbose=1, validation_data=(x_test, y_test))\n",
        "score = model.evaluate(x_test, y_test, verbose=0)\n",
        "print('Test loss:', score[0])\n",
        "print('Test accuracy:', score[1])"
      ],
      "metadata": {
        "colab": {
          "base_uri": "https://localhost:8080/"
        },
        "id": "n1AX7ayZ9Wyf",
        "outputId": "4178917a-0d10-4c4e-de6d-eaab5feecbb0"
      },
      "execution_count": null,
      "outputs": [
        {
          "output_type": "stream",
          "name": "stdout",
          "text": [
            "Epoch 1/50\n",
            "782/782 [==============================] - 20s 25ms/step - loss: 1.9507 - accuracy: 0.4082 - val_loss: 1.7741 - val_accuracy: 0.3977\n",
            "Epoch 2/50\n",
            "782/782 [==============================] - 19s 24ms/step - loss: 1.1694 - accuracy: 0.5832 - val_loss: 1.0058 - val_accuracy: 0.6480\n",
            "Epoch 3/50\n",
            "782/782 [==============================] - 19s 24ms/step - loss: 0.9491 - accuracy: 0.6650 - val_loss: 0.8511 - val_accuracy: 0.6981\n",
            "Epoch 4/50\n",
            "782/782 [==============================] - 19s 24ms/step - loss: 0.8455 - accuracy: 0.7041 - val_loss: 1.0872 - val_accuracy: 0.6311\n",
            "Epoch 5/50\n",
            "782/782 [==============================] - 19s 24ms/step - loss: 0.7823 - accuracy: 0.7290 - val_loss: 0.8639 - val_accuracy: 0.7049\n",
            "Epoch 6/50\n",
            "782/782 [==============================] - 19s 24ms/step - loss: 0.7365 - accuracy: 0.7435 - val_loss: 0.7578 - val_accuracy: 0.7401\n",
            "Epoch 7/50\n",
            "782/782 [==============================] - 19s 24ms/step - loss: 0.7028 - accuracy: 0.7564 - val_loss: 0.6524 - val_accuracy: 0.7774\n",
            "Epoch 8/50\n",
            "782/782 [==============================] - 19s 24ms/step - loss: 0.6622 - accuracy: 0.7694 - val_loss: 0.6492 - val_accuracy: 0.7880\n",
            "Epoch 9/50\n",
            "782/782 [==============================] - 19s 24ms/step - loss: 0.6462 - accuracy: 0.7778 - val_loss: 0.7467 - val_accuracy: 0.7580\n",
            "Epoch 10/50\n",
            "782/782 [==============================] - 19s 24ms/step - loss: 0.6248 - accuracy: 0.7852 - val_loss: 0.6423 - val_accuracy: 0.7887\n",
            "Epoch 11/50\n",
            "782/782 [==============================] - 19s 24ms/step - loss: 0.6015 - accuracy: 0.7946 - val_loss: 0.6404 - val_accuracy: 0.7848\n",
            "Epoch 12/50\n",
            "782/782 [==============================] - 19s 24ms/step - loss: 0.5747 - accuracy: 0.8020 - val_loss: 0.5976 - val_accuracy: 0.8022\n",
            "Epoch 13/50\n",
            "782/782 [==============================] - 19s 24ms/step - loss: 0.5640 - accuracy: 0.8067 - val_loss: 0.6241 - val_accuracy: 0.7958\n",
            "Epoch 14/50\n",
            "782/782 [==============================] - 19s 24ms/step - loss: 0.5480 - accuracy: 0.8137 - val_loss: 0.5908 - val_accuracy: 0.8077\n",
            "Epoch 15/50\n",
            "782/782 [==============================] - 19s 24ms/step - loss: 0.5351 - accuracy: 0.8152 - val_loss: 0.5825 - val_accuracy: 0.8041\n",
            "Epoch 16/50\n",
            "782/782 [==============================] - 19s 24ms/step - loss: 0.5235 - accuracy: 0.8203 - val_loss: 0.5997 - val_accuracy: 0.8073\n",
            "Epoch 17/50\n",
            "782/782 [==============================] - 19s 24ms/step - loss: 0.5053 - accuracy: 0.8250 - val_loss: 0.6527 - val_accuracy: 0.7917\n",
            "Epoch 18/50\n",
            "782/782 [==============================] - 19s 24ms/step - loss: 0.4927 - accuracy: 0.8317 - val_loss: 0.5546 - val_accuracy: 0.8191\n",
            "Epoch 19/50\n",
            "782/782 [==============================] - 19s 24ms/step - loss: 0.4814 - accuracy: 0.8352 - val_loss: 0.5433 - val_accuracy: 0.8167\n",
            "Epoch 20/50\n",
            "782/782 [==============================] - 19s 24ms/step - loss: 0.4711 - accuracy: 0.8397 - val_loss: 0.6061 - val_accuracy: 0.8095\n",
            "Epoch 21/50\n",
            "782/782 [==============================] - 19s 25ms/step - loss: 0.4624 - accuracy: 0.8418 - val_loss: 0.6029 - val_accuracy: 0.8138\n",
            "Epoch 22/50\n",
            "782/782 [==============================] - 19s 25ms/step - loss: 0.4564 - accuracy: 0.8432 - val_loss: 0.5197 - val_accuracy: 0.8347\n",
            "Epoch 23/50\n",
            "782/782 [==============================] - 19s 24ms/step - loss: 0.4702 - accuracy: 0.8388 - val_loss: 0.5618 - val_accuracy: 0.8276\n",
            "Epoch 24/50\n",
            "782/782 [==============================] - 19s 24ms/step - loss: 0.4323 - accuracy: 0.8516 - val_loss: 0.5786 - val_accuracy: 0.8182\n",
            "Epoch 25/50\n",
            "782/782 [==============================] - 19s 24ms/step - loss: 0.4265 - accuracy: 0.8546 - val_loss: 0.5980 - val_accuracy: 0.8122\n",
            "Epoch 26/50\n",
            "782/782 [==============================] - 19s 24ms/step - loss: 0.4199 - accuracy: 0.8554 - val_loss: 0.6205 - val_accuracy: 0.8130\n",
            "Epoch 27/50\n",
            "782/782 [==============================] - 19s 24ms/step - loss: 0.4168 - accuracy: 0.8569 - val_loss: 0.5599 - val_accuracy: 0.8210\n",
            "Epoch 28/50\n",
            "782/782 [==============================] - 19s 24ms/step - loss: 0.4075 - accuracy: 0.8593 - val_loss: 0.5802 - val_accuracy: 0.8190\n",
            "Epoch 29/50\n",
            "782/782 [==============================] - 19s 24ms/step - loss: 0.4028 - accuracy: 0.8623 - val_loss: 0.5299 - val_accuracy: 0.8376\n",
            "Epoch 30/50\n",
            "782/782 [==============================] - 19s 24ms/step - loss: 0.3936 - accuracy: 0.8658 - val_loss: 0.5880 - val_accuracy: 0.8259\n",
            "Epoch 31/50\n",
            "782/782 [==============================] - 19s 24ms/step - loss: 0.3886 - accuracy: 0.8677 - val_loss: 0.5040 - val_accuracy: 0.8383\n",
            "Epoch 32/50\n",
            "782/782 [==============================] - 19s 24ms/step - loss: 0.3853 - accuracy: 0.8678 - val_loss: 0.5761 - val_accuracy: 0.8297\n",
            "Epoch 33/50\n",
            "782/782 [==============================] - 19s 25ms/step - loss: 0.3790 - accuracy: 0.8711 - val_loss: 0.5259 - val_accuracy: 0.8360\n",
            "Epoch 34/50\n",
            "782/782 [==============================] - 19s 24ms/step - loss: 0.3715 - accuracy: 0.8730 - val_loss: 0.5633 - val_accuracy: 0.8387\n",
            "Epoch 35/50\n",
            "782/782 [==============================] - 19s 24ms/step - loss: 0.3697 - accuracy: 0.8744 - val_loss: 0.5472 - val_accuracy: 0.8433\n",
            "Epoch 36/50\n",
            "782/782 [==============================] - 19s 25ms/step - loss: 0.3681 - accuracy: 0.8730 - val_loss: 0.5560 - val_accuracy: 0.8400\n",
            "Epoch 37/50\n",
            "782/782 [==============================] - 19s 25ms/step - loss: 0.3600 - accuracy: 0.8770 - val_loss: 0.5911 - val_accuracy: 0.8349\n",
            "Epoch 38/50\n",
            "782/782 [==============================] - 19s 25ms/step - loss: 0.3481 - accuracy: 0.8823 - val_loss: 0.5551 - val_accuracy: 0.8416\n",
            "Epoch 39/50\n",
            "782/782 [==============================] - 20s 25ms/step - loss: 0.3548 - accuracy: 0.8803 - val_loss: 0.6069 - val_accuracy: 0.8300\n",
            "Epoch 40/50\n",
            "782/782 [==============================] - 19s 25ms/step - loss: 0.3519 - accuracy: 0.8814 - val_loss: 0.5442 - val_accuracy: 0.8440\n",
            "Epoch 41/50\n",
            "782/782 [==============================] - 19s 25ms/step - loss: 0.3428 - accuracy: 0.8828 - val_loss: 0.6340 - val_accuracy: 0.8222\n",
            "Epoch 42/50\n",
            "782/782 [==============================] - 19s 24ms/step - loss: 0.3423 - accuracy: 0.8829 - val_loss: 0.5562 - val_accuracy: 0.8435\n",
            "Epoch 43/50\n",
            "782/782 [==============================] - 19s 24ms/step - loss: 0.3317 - accuracy: 0.8867 - val_loss: 0.5725 - val_accuracy: 0.8317\n",
            "Epoch 44/50\n",
            "782/782 [==============================] - 19s 24ms/step - loss: 0.3399 - accuracy: 0.8859 - val_loss: 0.5322 - val_accuracy: 0.8456\n",
            "Epoch 45/50\n",
            "782/782 [==============================] - 19s 24ms/step - loss: 0.3309 - accuracy: 0.8880 - val_loss: 0.5691 - val_accuracy: 0.8350\n",
            "Epoch 46/50\n",
            "782/782 [==============================] - 19s 24ms/step - loss: 0.3303 - accuracy: 0.8881 - val_loss: 0.6431 - val_accuracy: 0.8252\n",
            "Epoch 47/50\n",
            "782/782 [==============================] - 19s 24ms/step - loss: 0.3206 - accuracy: 0.8907 - val_loss: 0.5740 - val_accuracy: 0.8406\n",
            "Epoch 48/50\n",
            "782/782 [==============================] - 19s 24ms/step - loss: 0.3233 - accuracy: 0.8915 - val_loss: 0.5333 - val_accuracy: 0.8463\n",
            "Epoch 49/50\n",
            "782/782 [==============================] - 19s 25ms/step - loss: 0.3219 - accuracy: 0.8921 - val_loss: 0.5619 - val_accuracy: 0.8391\n",
            "Epoch 50/50\n",
            "782/782 [==============================] - 19s 24ms/step - loss: 0.3238 - accuracy: 0.8906 - val_loss: 0.5915 - val_accuracy: 0.8340\n",
            "Test loss: 0.5915098786354065\n",
            "Test accuracy: 0.8339999914169312\n"
          ]
        }
      ]
    },
    {
      "cell_type": "markdown",
      "source": [
        "## Step c) Change optimizer to SGD "
      ],
      "metadata": {
        "id": "QqPZCGK9A7Z8"
      }
    },
    {
      "cell_type": "code",
      "source": [
        "# https://keras.io/optimizers/\n",
        "model.compile(loss=keras.losses.categorical_crossentropy, optimizer=keras.optimizers.SGD(lr=0.01), metrics=['accuracy'])"
      ],
      "metadata": {
        "colab": {
          "base_uri": "https://localhost:8080/"
        },
        "id": "QWftIkqBA8JF",
        "outputId": "431f927c-af2f-432f-90d9-6bd2db57c184"
      },
      "execution_count": null,
      "outputs": [
        {
          "output_type": "stream",
          "name": "stderr",
          "text": [
            "/usr/local/lib/python3.7/dist-packages/keras/optimizer_v2/gradient_descent.py:102: UserWarning: The `lr` argument is deprecated, use `learning_rate` instead.\n",
            "  super(SGD, self).__init__(name, **kwargs)\n"
          ]
        }
      ]
    },
    {
      "cell_type": "code",
      "source": [
        "model.fit(x_train, y_train, batch_size=batch_size, epochs=epochs, verbose=1, validation_data=(x_test, y_test))\n",
        "score = model.evaluate(x_test, y_test, verbose=0)\n",
        "print('Test loss:', score[0])\n",
        "print('Test accuracy:', score[1])"
      ],
      "metadata": {
        "colab": {
          "base_uri": "https://localhost:8080/"
        },
        "id": "M9KYrhgaBSn8",
        "outputId": "3184ac56-e75c-4df2-efce-e6240ae9f2bf"
      },
      "execution_count": null,
      "outputs": [
        {
          "output_type": "stream",
          "name": "stdout",
          "text": [
            "Epoch 1/50\n",
            "782/782 [==============================] - 20s 25ms/step - loss: 0.2372 - accuracy: 0.9166 - val_loss: 0.4881 - val_accuracy: 0.8552\n",
            "Epoch 2/50\n",
            "782/782 [==============================] - 19s 24ms/step - loss: 0.2291 - accuracy: 0.9194 - val_loss: 0.4815 - val_accuracy: 0.8569\n",
            "Epoch 3/50\n",
            "782/782 [==============================] - 19s 24ms/step - loss: 0.2264 - accuracy: 0.9193 - val_loss: 0.4884 - val_accuracy: 0.8554\n",
            "Epoch 4/50\n",
            "782/782 [==============================] - 19s 24ms/step - loss: 0.2226 - accuracy: 0.9217 - val_loss: 0.4808 - val_accuracy: 0.8546\n",
            "Epoch 5/50\n",
            "782/782 [==============================] - 19s 24ms/step - loss: 0.2249 - accuracy: 0.9184 - val_loss: 0.4808 - val_accuracy: 0.8558\n",
            "Epoch 6/50\n",
            "782/782 [==============================] - 19s 24ms/step - loss: 0.2231 - accuracy: 0.9198 - val_loss: 0.4710 - val_accuracy: 0.8575\n",
            "Epoch 7/50\n",
            "782/782 [==============================] - 19s 24ms/step - loss: 0.2201 - accuracy: 0.9212 - val_loss: 0.4805 - val_accuracy: 0.8562\n",
            "Epoch 8/50\n",
            "782/782 [==============================] - 19s 25ms/step - loss: 0.2148 - accuracy: 0.9229 - val_loss: 0.4819 - val_accuracy: 0.8563\n",
            "Epoch 9/50\n",
            "782/782 [==============================] - 19s 24ms/step - loss: 0.2180 - accuracy: 0.9219 - val_loss: 0.4749 - val_accuracy: 0.8578\n",
            "Epoch 10/50\n",
            "782/782 [==============================] - 19s 24ms/step - loss: 0.2190 - accuracy: 0.9227 - val_loss: 0.4791 - val_accuracy: 0.8561\n",
            "Epoch 11/50\n",
            "782/782 [==============================] - 19s 24ms/step - loss: 0.2145 - accuracy: 0.9229 - val_loss: 0.4762 - val_accuracy: 0.8581\n",
            "Epoch 12/50\n",
            "782/782 [==============================] - 19s 24ms/step - loss: 0.2139 - accuracy: 0.9226 - val_loss: 0.4739 - val_accuracy: 0.8576\n",
            "Epoch 13/50\n",
            "782/782 [==============================] - 19s 24ms/step - loss: 0.2142 - accuracy: 0.9237 - val_loss: 0.4817 - val_accuracy: 0.8573\n",
            "Epoch 14/50\n",
            "782/782 [==============================] - 19s 24ms/step - loss: 0.2160 - accuracy: 0.9223 - val_loss: 0.4721 - val_accuracy: 0.8587\n",
            "Epoch 15/50\n",
            "782/782 [==============================] - 19s 24ms/step - loss: 0.2116 - accuracy: 0.9245 - val_loss: 0.4746 - val_accuracy: 0.8584\n",
            "Epoch 16/50\n",
            "782/782 [==============================] - 19s 24ms/step - loss: 0.2156 - accuracy: 0.9232 - val_loss: 0.4782 - val_accuracy: 0.8567\n",
            "Epoch 17/50\n",
            "782/782 [==============================] - 19s 24ms/step - loss: 0.2149 - accuracy: 0.9233 - val_loss: 0.4751 - val_accuracy: 0.8572\n",
            "Epoch 18/50\n",
            "782/782 [==============================] - 19s 24ms/step - loss: 0.2095 - accuracy: 0.9241 - val_loss: 0.4782 - val_accuracy: 0.8581\n",
            "Epoch 19/50\n",
            "782/782 [==============================] - 19s 24ms/step - loss: 0.2110 - accuracy: 0.9246 - val_loss: 0.4793 - val_accuracy: 0.8578\n",
            "Epoch 20/50\n",
            "782/782 [==============================] - 19s 24ms/step - loss: 0.2128 - accuracy: 0.9245 - val_loss: 0.4692 - val_accuracy: 0.8591\n",
            "Epoch 21/50\n",
            "782/782 [==============================] - 19s 24ms/step - loss: 0.2111 - accuracy: 0.9260 - val_loss: 0.4680 - val_accuracy: 0.8598\n",
            "Epoch 22/50\n",
            "782/782 [==============================] - 19s 24ms/step - loss: 0.2098 - accuracy: 0.9242 - val_loss: 0.4717 - val_accuracy: 0.8586\n",
            "Epoch 23/50\n",
            "782/782 [==============================] - 19s 24ms/step - loss: 0.2094 - accuracy: 0.9257 - val_loss: 0.4723 - val_accuracy: 0.8585\n",
            "Epoch 24/50\n",
            "782/782 [==============================] - 19s 24ms/step - loss: 0.2062 - accuracy: 0.9259 - val_loss: 0.4722 - val_accuracy: 0.8585\n",
            "Epoch 25/50\n",
            "782/782 [==============================] - 19s 24ms/step - loss: 0.2093 - accuracy: 0.9250 - val_loss: 0.4721 - val_accuracy: 0.8595\n",
            "Epoch 26/50\n",
            "782/782 [==============================] - 19s 24ms/step - loss: 0.2101 - accuracy: 0.9258 - val_loss: 0.4743 - val_accuracy: 0.8592\n",
            "Epoch 27/50\n",
            "782/782 [==============================] - 19s 24ms/step - loss: 0.2070 - accuracy: 0.9258 - val_loss: 0.4729 - val_accuracy: 0.8586\n",
            "Epoch 28/50\n",
            "782/782 [==============================] - 19s 24ms/step - loss: 0.2100 - accuracy: 0.9244 - val_loss: 0.4697 - val_accuracy: 0.8594\n",
            "Epoch 29/50\n",
            "782/782 [==============================] - 19s 24ms/step - loss: 0.2062 - accuracy: 0.9269 - val_loss: 0.4709 - val_accuracy: 0.8606\n",
            "Epoch 30/50\n",
            "782/782 [==============================] - 19s 24ms/step - loss: 0.2111 - accuracy: 0.9250 - val_loss: 0.4724 - val_accuracy: 0.8599\n",
            "Epoch 31/50\n",
            "782/782 [==============================] - 19s 24ms/step - loss: 0.2115 - accuracy: 0.9243 - val_loss: 0.4720 - val_accuracy: 0.8584\n",
            "Epoch 32/50\n",
            "782/782 [==============================] - 19s 24ms/step - loss: 0.2035 - accuracy: 0.9274 - val_loss: 0.4803 - val_accuracy: 0.8603\n",
            "Epoch 33/50\n",
            "782/782 [==============================] - 19s 25ms/step - loss: 0.2035 - accuracy: 0.9266 - val_loss: 0.4796 - val_accuracy: 0.8604\n",
            "Epoch 34/50\n",
            "782/782 [==============================] - 19s 25ms/step - loss: 0.2094 - accuracy: 0.9252 - val_loss: 0.4690 - val_accuracy: 0.8613\n",
            "Epoch 35/50\n",
            "782/782 [==============================] - 19s 24ms/step - loss: 0.2049 - accuracy: 0.9269 - val_loss: 0.4699 - val_accuracy: 0.8612\n",
            "Epoch 36/50\n",
            "782/782 [==============================] - 19s 24ms/step - loss: 0.2019 - accuracy: 0.9277 - val_loss: 0.4717 - val_accuracy: 0.8598\n",
            "Epoch 37/50\n",
            "782/782 [==============================] - 19s 24ms/step - loss: 0.2036 - accuracy: 0.9261 - val_loss: 0.4837 - val_accuracy: 0.8592\n",
            "Epoch 38/50\n",
            "782/782 [==============================] - 19s 24ms/step - loss: 0.2041 - accuracy: 0.9267 - val_loss: 0.4739 - val_accuracy: 0.8591\n",
            "Epoch 39/50\n",
            "782/782 [==============================] - 19s 24ms/step - loss: 0.2053 - accuracy: 0.9254 - val_loss: 0.4710 - val_accuracy: 0.8611\n",
            "Epoch 40/50\n",
            "782/782 [==============================] - 19s 25ms/step - loss: 0.1992 - accuracy: 0.9290 - val_loss: 0.4881 - val_accuracy: 0.8601\n",
            "Epoch 41/50\n",
            "782/782 [==============================] - 19s 24ms/step - loss: 0.2072 - accuracy: 0.9255 - val_loss: 0.4656 - val_accuracy: 0.8610\n",
            "Epoch 42/50\n",
            "782/782 [==============================] - 19s 24ms/step - loss: 0.2014 - accuracy: 0.9272 - val_loss: 0.4818 - val_accuracy: 0.8587\n",
            "Epoch 43/50\n",
            "782/782 [==============================] - 19s 24ms/step - loss: 0.2048 - accuracy: 0.9274 - val_loss: 0.4748 - val_accuracy: 0.8602\n",
            "Epoch 44/50\n",
            "782/782 [==============================] - 19s 24ms/step - loss: 0.2066 - accuracy: 0.9262 - val_loss: 0.4717 - val_accuracy: 0.8608\n",
            "Epoch 45/50\n",
            "782/782 [==============================] - 19s 24ms/step - loss: 0.2042 - accuracy: 0.9270 - val_loss: 0.4768 - val_accuracy: 0.8606\n",
            "Epoch 46/50\n",
            "782/782 [==============================] - 19s 24ms/step - loss: 0.2080 - accuracy: 0.9264 - val_loss: 0.4686 - val_accuracy: 0.8612\n",
            "Epoch 47/50\n",
            "782/782 [==============================] - 19s 24ms/step - loss: 0.2050 - accuracy: 0.9272 - val_loss: 0.4725 - val_accuracy: 0.8601\n",
            "Epoch 48/50\n",
            "782/782 [==============================] - 19s 25ms/step - loss: 0.2029 - accuracy: 0.9267 - val_loss: 0.4722 - val_accuracy: 0.8610\n",
            "Epoch 49/50\n",
            "782/782 [==============================] - 19s 25ms/step - loss: 0.1982 - accuracy: 0.9281 - val_loss: 0.4725 - val_accuracy: 0.8605\n",
            "Epoch 50/50\n",
            "782/782 [==============================] - 19s 24ms/step - loss: 0.2004 - accuracy: 0.9286 - val_loss: 0.4693 - val_accuracy: 0.8605\n",
            "Test loss: 0.4693377912044525\n",
            "Test accuracy: 0.8604999780654907\n"
          ]
        }
      ]
    },
    {
      "cell_type": "code",
      "source": [
        ""
      ],
      "metadata": {
        "id": "yBnUfkHvBYzi"
      },
      "execution_count": null,
      "outputs": []
    },
    {
      "cell_type": "markdown",
      "source": [
        "# **Step d) Remove all the batch normalization layers in the network **"
      ],
      "metadata": {
        "id": "FEqeQPogFWP7"
      }
    },
    {
      "cell_type": "code",
      "source": [
        "model = Sequential()\n",
        "model.add(Conv2D(filters = 32, kernel_size = (3,3), padding='same', input_shape = input_shape))\n",
        "model.add(Activation('relu'))\n",
        "model.add(Conv2D(filters = 32, kernel_size = (3,3), padding='same'))\n",
        "model.add(Activation('relu'))\n",
        "model.add(MaxPooling2D(2,2))\n",
        "model.add(Dropout(0.2))\n",
        "\n",
        "model.add(Conv2D(filters = 64, kernel_size = (3,3), padding='same'))\n",
        "model.add(Activation('relu'))\n",
        "model.add(Conv2D(filters = 64, kernel_size = (3,3), padding='same'))\n",
        "model.add(Activation('relu'))\n",
        "model.add(MaxPooling2D(2,2))\n",
        "model.add(Dropout(0.3))\n",
        "\n",
        "model.add(Conv2D(filters = 128, kernel_size = (3,3), padding='same'))\n",
        "model.add(Activation('relu'))\n",
        "model.add(Conv2D(filters = 128, kernel_size = (3,3), padding='same'))\n",
        "model.add(Activation('relu'))\n",
        "model.add(MaxPooling2D(2,2))\n",
        "model.add(Dropout(0.4))\n",
        "\n",
        "model.add(Flatten())\n",
        "\n",
        "model.add(Dense(units = 10, activation = 'softmax'))"
      ],
      "metadata": {
        "id": "yA_yLH-rFX0N"
      },
      "execution_count": null,
      "outputs": []
    },
    {
      "cell_type": "code",
      "source": [
        "# https://keras.io/optimizers/\n",
        "model.compile(loss=keras.losses.categorical_crossentropy, optimizer=keras.optimizers.Adam(lr=0.01), metrics=['accuracy'])"
      ],
      "metadata": {
        "colab": {
          "base_uri": "https://localhost:8080/"
        },
        "id": "iw0RAUbaFgw8",
        "outputId": "c627aff4-27a7-4b0f-c0a4-345910dba2a9"
      },
      "execution_count": null,
      "outputs": [
        {
          "output_type": "stream",
          "name": "stderr",
          "text": [
            "/usr/local/lib/python3.7/dist-packages/keras/optimizer_v2/adam.py:105: UserWarning: The `lr` argument is deprecated, use `learning_rate` instead.\n",
            "  super(Adam, self).__init__(name, **kwargs)\n"
          ]
        }
      ]
    },
    {
      "cell_type": "code",
      "source": [
        "model.fit(x_train, y_train, batch_size=batch_size, epochs=epochs, verbose=1, validation_data=(x_test, y_test))\n",
        "score = model.evaluate(x_test, y_test, verbose=0)\n",
        "print('Test loss:', score[0])\n",
        "print('Test accuracy:', score[1])"
      ],
      "metadata": {
        "colab": {
          "base_uri": "https://localhost:8080/"
        },
        "id": "nW3U0PZ1Fpnz",
        "outputId": "09cc684c-2446-4701-c78a-fdc19ada3342"
      },
      "execution_count": null,
      "outputs": [
        {
          "output_type": "stream",
          "name": "stdout",
          "text": [
            "Epoch 1/50\n",
            "782/782 [==============================] - 18s 22ms/step - loss: 2.3341 - accuracy: 0.1011 - val_loss: 2.3034 - val_accuracy: 0.1000\n",
            "Epoch 2/50\n",
            "782/782 [==============================] - 17s 21ms/step - loss: 2.3036 - accuracy: 0.1017 - val_loss: 2.3034 - val_accuracy: 0.1000\n",
            "Epoch 3/50\n",
            "782/782 [==============================] - 16s 21ms/step - loss: 2.3036 - accuracy: 0.0972 - val_loss: 2.3034 - val_accuracy: 0.1000\n",
            "Epoch 4/50\n",
            "782/782 [==============================] - 16s 21ms/step - loss: 2.3037 - accuracy: 0.0982 - val_loss: 2.3031 - val_accuracy: 0.1000\n",
            "Epoch 5/50\n",
            "782/782 [==============================] - 17s 21ms/step - loss: 2.3036 - accuracy: 0.0981 - val_loss: 2.3033 - val_accuracy: 0.1000\n",
            "Epoch 6/50\n",
            "782/782 [==============================] - 16s 21ms/step - loss: 2.3037 - accuracy: 0.0968 - val_loss: 2.3030 - val_accuracy: 0.1000\n",
            "Epoch 7/50\n",
            "782/782 [==============================] - 16s 21ms/step - loss: 2.3036 - accuracy: 0.0989 - val_loss: 2.3032 - val_accuracy: 0.1000\n",
            "Epoch 8/50\n",
            "782/782 [==============================] - 16s 21ms/step - loss: 2.3035 - accuracy: 0.1003 - val_loss: 2.3030 - val_accuracy: 0.1000\n",
            "Epoch 9/50\n",
            "782/782 [==============================] - 17s 21ms/step - loss: 2.3036 - accuracy: 0.0993 - val_loss: 2.3036 - val_accuracy: 0.1000\n",
            "Epoch 10/50\n",
            "782/782 [==============================] - 17s 21ms/step - loss: 2.3035 - accuracy: 0.1006 - val_loss: 2.3030 - val_accuracy: 0.1000\n",
            "Epoch 11/50\n",
            "782/782 [==============================] - 17s 21ms/step - loss: 2.3036 - accuracy: 0.0987 - val_loss: 2.3037 - val_accuracy: 0.1000\n",
            "Epoch 12/50\n",
            "782/782 [==============================] - 17s 21ms/step - loss: 2.3037 - accuracy: 0.1002 - val_loss: 2.3032 - val_accuracy: 0.1000\n",
            "Epoch 13/50\n",
            "782/782 [==============================] - 16s 21ms/step - loss: 2.3035 - accuracy: 0.1002 - val_loss: 2.3036 - val_accuracy: 0.1000\n",
            "Epoch 14/50\n",
            "782/782 [==============================] - 16s 21ms/step - loss: 2.3037 - accuracy: 0.0978 - val_loss: 2.3039 - val_accuracy: 0.1000\n",
            "Epoch 15/50\n",
            "782/782 [==============================] - 16s 21ms/step - loss: 2.3036 - accuracy: 0.0985 - val_loss: 2.3033 - val_accuracy: 0.1000\n",
            "Epoch 16/50\n",
            "782/782 [==============================] - 16s 21ms/step - loss: 2.3038 - accuracy: 0.0982 - val_loss: 2.3030 - val_accuracy: 0.1000\n",
            "Epoch 17/50\n",
            "782/782 [==============================] - 16s 21ms/step - loss: 2.3037 - accuracy: 0.0979 - val_loss: 2.3034 - val_accuracy: 0.1000\n",
            "Epoch 18/50\n",
            "782/782 [==============================] - 16s 21ms/step - loss: 2.3036 - accuracy: 0.0998 - val_loss: 2.3028 - val_accuracy: 0.1000\n",
            "Epoch 19/50\n",
            "782/782 [==============================] - 16s 21ms/step - loss: 2.3035 - accuracy: 0.1010 - val_loss: 2.3031 - val_accuracy: 0.1000\n",
            "Epoch 20/50\n",
            "782/782 [==============================] - 17s 21ms/step - loss: 2.3036 - accuracy: 0.0990 - val_loss: 2.3039 - val_accuracy: 0.1000\n",
            "Epoch 21/50\n",
            "782/782 [==============================] - 17s 21ms/step - loss: 2.3035 - accuracy: 0.1010 - val_loss: 2.3032 - val_accuracy: 0.1000\n",
            "Epoch 22/50\n",
            "782/782 [==============================] - 16s 21ms/step - loss: 2.3037 - accuracy: 0.0986 - val_loss: 2.3032 - val_accuracy: 0.1000\n",
            "Epoch 23/50\n",
            "782/782 [==============================] - 17s 21ms/step - loss: 2.3036 - accuracy: 0.1000 - val_loss: 2.3031 - val_accuracy: 0.1000\n",
            "Epoch 24/50\n",
            "782/782 [==============================] - 16s 21ms/step - loss: 2.3037 - accuracy: 0.0974 - val_loss: 2.3030 - val_accuracy: 0.1000\n",
            "Epoch 25/50\n",
            "782/782 [==============================] - 17s 21ms/step - loss: 2.3036 - accuracy: 0.0986 - val_loss: 2.3032 - val_accuracy: 0.1000\n",
            "Epoch 26/50\n",
            "782/782 [==============================] - 17s 21ms/step - loss: 2.3036 - accuracy: 0.0994 - val_loss: 2.3031 - val_accuracy: 0.1000\n",
            "Epoch 27/50\n",
            "782/782 [==============================] - 16s 21ms/step - loss: 2.3036 - accuracy: 0.1001 - val_loss: 2.3035 - val_accuracy: 0.1000\n",
            "Epoch 28/50\n",
            "782/782 [==============================] - 16s 21ms/step - loss: 2.3038 - accuracy: 0.0983 - val_loss: 2.3034 - val_accuracy: 0.1000\n",
            "Epoch 29/50\n",
            "782/782 [==============================] - 16s 21ms/step - loss: 2.3036 - accuracy: 0.0998 - val_loss: 2.3035 - val_accuracy: 0.1000\n",
            "Epoch 30/50\n",
            "782/782 [==============================] - 16s 21ms/step - loss: 2.3038 - accuracy: 0.0974 - val_loss: 2.3033 - val_accuracy: 0.1000\n",
            "Epoch 31/50\n",
            "782/782 [==============================] - 16s 21ms/step - loss: 2.3036 - accuracy: 0.0995 - val_loss: 2.3038 - val_accuracy: 0.1000\n",
            "Epoch 32/50\n",
            "782/782 [==============================] - 17s 22ms/step - loss: 2.3035 - accuracy: 0.1013 - val_loss: 2.3035 - val_accuracy: 0.1000\n",
            "Epoch 33/50\n",
            "782/782 [==============================] - 17s 21ms/step - loss: 2.3035 - accuracy: 0.0988 - val_loss: 2.3034 - val_accuracy: 0.1000\n",
            "Epoch 34/50\n",
            "782/782 [==============================] - 17s 21ms/step - loss: 2.3037 - accuracy: 0.0993 - val_loss: 2.3036 - val_accuracy: 0.1000\n",
            "Epoch 35/50\n",
            "782/782 [==============================] - 17s 22ms/step - loss: 2.3037 - accuracy: 0.0975 - val_loss: 2.3032 - val_accuracy: 0.1000\n",
            "Epoch 36/50\n",
            "782/782 [==============================] - 17s 21ms/step - loss: 2.3035 - accuracy: 0.0986 - val_loss: 2.3036 - val_accuracy: 0.1000\n",
            "Epoch 37/50\n",
            "782/782 [==============================] - 17s 21ms/step - loss: 2.3033 - accuracy: 0.1006 - val_loss: 2.3050 - val_accuracy: 0.1000\n",
            "Epoch 38/50\n",
            "782/782 [==============================] - 17s 21ms/step - loss: 2.3040 - accuracy: 0.0976 - val_loss: 2.3030 - val_accuracy: 0.1000\n",
            "Epoch 39/50\n",
            "782/782 [==============================] - 17s 21ms/step - loss: 2.3034 - accuracy: 0.1001 - val_loss: 2.3042 - val_accuracy: 0.1000\n",
            "Epoch 40/50\n",
            "782/782 [==============================] - 17s 21ms/step - loss: 2.3037 - accuracy: 0.1011 - val_loss: 2.3033 - val_accuracy: 0.1000\n",
            "Epoch 41/50\n",
            "782/782 [==============================] - 17s 21ms/step - loss: 2.3036 - accuracy: 0.0989 - val_loss: 2.3036 - val_accuracy: 0.1000\n",
            "Epoch 42/50\n",
            "782/782 [==============================] - 17s 21ms/step - loss: 2.3036 - accuracy: 0.0991 - val_loss: 2.3033 - val_accuracy: 0.1000\n",
            "Epoch 43/50\n",
            "782/782 [==============================] - 16s 21ms/step - loss: 2.3037 - accuracy: 0.0991 - val_loss: 2.3033 - val_accuracy: 0.1000\n",
            "Epoch 44/50\n",
            "782/782 [==============================] - 17s 21ms/step - loss: 2.3035 - accuracy: 0.0980 - val_loss: 2.3032 - val_accuracy: 0.1000\n",
            "Epoch 45/50\n",
            "782/782 [==============================] - 17s 21ms/step - loss: 2.3037 - accuracy: 0.0986 - val_loss: 2.3033 - val_accuracy: 0.1000\n",
            "Epoch 46/50\n",
            "782/782 [==============================] - 17s 21ms/step - loss: 2.3035 - accuracy: 0.0988 - val_loss: 2.3041 - val_accuracy: 0.1000\n",
            "Epoch 47/50\n",
            "782/782 [==============================] - 17s 21ms/step - loss: 2.3036 - accuracy: 0.0993 - val_loss: 2.3032 - val_accuracy: 0.1000\n",
            "Epoch 48/50\n",
            "782/782 [==============================] - 16s 21ms/step - loss: 2.3036 - accuracy: 0.0981 - val_loss: 2.3036 - val_accuracy: 0.1000\n",
            "Epoch 49/50\n",
            "782/782 [==============================] - 17s 21ms/step - loss: 2.3038 - accuracy: 0.0968 - val_loss: 2.3036 - val_accuracy: 0.1000\n",
            "Epoch 50/50\n",
            "782/782 [==============================] - 17s 21ms/step - loss: 2.3037 - accuracy: 0.0966 - val_loss: 2.3030 - val_accuracy: 0.1000\n",
            "Test loss: 2.303030252456665\n",
            "Test accuracy: 0.10000000149011612\n"
          ]
        }
      ]
    },
    {
      "cell_type": "markdown",
      "source": [
        "# **Step e) Remove all the dropout layers in the network **"
      ],
      "metadata": {
        "id": "Z_dfSjN1ITeH"
      }
    },
    {
      "cell_type": "code",
      "source": [
        "model = Sequential()\n",
        "model.add(Conv2D(filters = 32, kernel_size = (3,3), padding='same', input_shape = input_shape))\n",
        "model.add(Activation('relu'))\n",
        "model.add(BatchNormalization())\n",
        "model.add(Conv2D(filters = 32, kernel_size = (3,3), padding='same'))\n",
        "model.add(Activation('relu'))\n",
        "model.add(BatchNormalization())\n",
        "model.add(MaxPooling2D(2,2))\n",
        "\n",
        "model.add(Conv2D(filters = 64, kernel_size = (3,3), padding='same'))\n",
        "model.add(Activation('relu'))\n",
        "model.add(BatchNormalization())\n",
        "model.add(Conv2D(filters = 64, kernel_size = (3,3), padding='same'))\n",
        "model.add(Activation('relu'))\n",
        "model.add(BatchNormalization())\n",
        "model.add(MaxPooling2D(2,2))\n",
        "\n",
        "model.add(Conv2D(filters = 128, kernel_size = (3,3), padding='same'))\n",
        "model.add(Activation('relu'))\n",
        "model.add(BatchNormalization())\n",
        "model.add(Conv2D(filters = 128, kernel_size = (3,3), padding='same'))\n",
        "model.add(Activation('relu'))\n",
        "model.add(BatchNormalization())\n",
        "model.add(MaxPooling2D(2,2))\n",
        "\n",
        "model.add(Flatten())\n",
        "\n",
        "model.add(Dense(units = 10, activation = 'softmax'))"
      ],
      "metadata": {
        "id": "HJ2A7u2FIUR-"
      },
      "execution_count": null,
      "outputs": []
    },
    {
      "cell_type": "code",
      "source": [
        "# https://keras.io/optimizers/\n",
        "model.compile(loss=keras.losses.categorical_crossentropy, optimizer=keras.optimizers.Adam(lr=0.01), metrics=['accuracy'])"
      ],
      "metadata": {
        "colab": {
          "base_uri": "https://localhost:8080/"
        },
        "id": "D0zEjsgVIgbp",
        "outputId": "73e67bd2-02a2-48df-b9a6-66944c2c7def"
      },
      "execution_count": null,
      "outputs": [
        {
          "output_type": "stream",
          "name": "stderr",
          "text": [
            "/usr/local/lib/python3.7/dist-packages/keras/optimizer_v2/adam.py:105: UserWarning: The `lr` argument is deprecated, use `learning_rate` instead.\n",
            "  super(Adam, self).__init__(name, **kwargs)\n"
          ]
        }
      ]
    },
    {
      "cell_type": "code",
      "source": [
        "model.fit(x_train, y_train, batch_size=batch_size, epochs=epochs, verbose=1, validation_data=(x_test, y_test))\n",
        "score = model.evaluate(x_test, y_test, verbose=0)\n",
        "print('Test loss:', score[0])\n",
        "print('Test accuracy:', score[1])"
      ],
      "metadata": {
        "colab": {
          "base_uri": "https://localhost:8080/"
        },
        "id": "8XqgDT-HIjPI",
        "outputId": "f621fe93-f483-4aaa-c3ff-473a80e055d1"
      },
      "execution_count": null,
      "outputs": [
        {
          "output_type": "stream",
          "name": "stdout",
          "text": [
            "Epoch 1/50\n",
            "782/782 [==============================] - 19s 24ms/step - loss: 1.7842 - accuracy: 0.4567 - val_loss: 1.6473 - val_accuracy: 0.4760\n",
            "Epoch 2/50\n",
            "782/782 [==============================] - 18s 23ms/step - loss: 1.0173 - accuracy: 0.6387 - val_loss: 1.0125 - val_accuracy: 0.6500\n",
            "Epoch 3/50\n",
            "782/782 [==============================] - 18s 23ms/step - loss: 0.8067 - accuracy: 0.7177 - val_loss: 0.9677 - val_accuracy: 0.6629\n",
            "Epoch 4/50\n",
            "782/782 [==============================] - 18s 23ms/step - loss: 0.6849 - accuracy: 0.7618 - val_loss: 0.8100 - val_accuracy: 0.7247\n",
            "Epoch 5/50\n",
            "782/782 [==============================] - 18s 23ms/step - loss: 0.6060 - accuracy: 0.7905 - val_loss: 0.9470 - val_accuracy: 0.7040\n",
            "Epoch 6/50\n",
            "782/782 [==============================] - 18s 23ms/step - loss: 0.5408 - accuracy: 0.8113 - val_loss: 0.8241 - val_accuracy: 0.7341\n",
            "Epoch 7/50\n",
            "782/782 [==============================] - 18s 23ms/step - loss: 0.4857 - accuracy: 0.8294 - val_loss: 0.8008 - val_accuracy: 0.7350\n",
            "Epoch 8/50\n",
            "782/782 [==============================] - 18s 23ms/step - loss: 0.4314 - accuracy: 0.8494 - val_loss: 0.7889 - val_accuracy: 0.7622\n",
            "Epoch 9/50\n",
            "782/782 [==============================] - 18s 23ms/step - loss: 0.3823 - accuracy: 0.8674 - val_loss: 0.8456 - val_accuracy: 0.7574\n",
            "Epoch 10/50\n",
            "782/782 [==============================] - 18s 23ms/step - loss: 0.3440 - accuracy: 0.8810 - val_loss: 0.8763 - val_accuracy: 0.7530\n",
            "Epoch 11/50\n",
            "782/782 [==============================] - 18s 23ms/step - loss: 0.2927 - accuracy: 0.8974 - val_loss: 0.9773 - val_accuracy: 0.7503\n",
            "Epoch 12/50\n",
            "782/782 [==============================] - 18s 23ms/step - loss: 0.2534 - accuracy: 0.9115 - val_loss: 0.9248 - val_accuracy: 0.7669\n",
            "Epoch 13/50\n",
            "782/782 [==============================] - 18s 23ms/step - loss: 0.2476 - accuracy: 0.9148 - val_loss: 0.9525 - val_accuracy: 0.7705\n",
            "Epoch 14/50\n",
            "782/782 [==============================] - 18s 23ms/step - loss: 0.2082 - accuracy: 0.9273 - val_loss: 1.0518 - val_accuracy: 0.7697\n",
            "Epoch 15/50\n",
            "782/782 [==============================] - 18s 23ms/step - loss: 0.1914 - accuracy: 0.9335 - val_loss: 1.0688 - val_accuracy: 0.7694\n",
            "Epoch 16/50\n",
            "782/782 [==============================] - 18s 23ms/step - loss: 0.1852 - accuracy: 0.9366 - val_loss: 1.2299 - val_accuracy: 0.7671\n",
            "Epoch 17/50\n",
            "782/782 [==============================] - 18s 23ms/step - loss: 0.1614 - accuracy: 0.9463 - val_loss: 1.0717 - val_accuracy: 0.7766\n",
            "Epoch 18/50\n",
            "782/782 [==============================] - 18s 23ms/step - loss: 0.1541 - accuracy: 0.9489 - val_loss: 1.1440 - val_accuracy: 0.7737\n",
            "Epoch 19/50\n",
            "782/782 [==============================] - 18s 23ms/step - loss: 0.1466 - accuracy: 0.9513 - val_loss: 1.3668 - val_accuracy: 0.7631\n",
            "Epoch 20/50\n",
            "782/782 [==============================] - 18s 23ms/step - loss: 0.1458 - accuracy: 0.9515 - val_loss: 1.2884 - val_accuracy: 0.7837\n",
            "Epoch 21/50\n",
            "782/782 [==============================] - 18s 23ms/step - loss: 0.1407 - accuracy: 0.9555 - val_loss: 1.5184 - val_accuracy: 0.7789\n",
            "Epoch 22/50\n",
            "782/782 [==============================] - 18s 23ms/step - loss: 0.1257 - accuracy: 0.9597 - val_loss: 1.6835 - val_accuracy: 0.7637\n",
            "Epoch 23/50\n",
            "782/782 [==============================] - 18s 23ms/step - loss: 0.1306 - accuracy: 0.9585 - val_loss: 1.3058 - val_accuracy: 0.7828\n",
            "Epoch 24/50\n",
            "782/782 [==============================] - 18s 23ms/step - loss: 0.1215 - accuracy: 0.9619 - val_loss: 1.5435 - val_accuracy: 0.7838\n",
            "Epoch 25/50\n",
            "782/782 [==============================] - 18s 23ms/step - loss: 0.1211 - accuracy: 0.9633 - val_loss: 1.6250 - val_accuracy: 0.7758\n",
            "Epoch 26/50\n",
            "782/782 [==============================] - 18s 23ms/step - loss: 0.1289 - accuracy: 0.9606 - val_loss: 1.6198 - val_accuracy: 0.7653\n",
            "Epoch 27/50\n",
            "782/782 [==============================] - 18s 24ms/step - loss: 0.1034 - accuracy: 0.9681 - val_loss: 1.6256 - val_accuracy: 0.7717\n",
            "Epoch 28/50\n",
            "782/782 [==============================] - 18s 24ms/step - loss: 0.1078 - accuracy: 0.9676 - val_loss: 1.8781 - val_accuracy: 0.7538\n",
            "Epoch 29/50\n",
            "782/782 [==============================] - 18s 23ms/step - loss: 0.1216 - accuracy: 0.9641 - val_loss: 1.6788 - val_accuracy: 0.7736\n",
            "Epoch 30/50\n",
            "782/782 [==============================] - 19s 24ms/step - loss: 0.0937 - accuracy: 0.9721 - val_loss: 2.0331 - val_accuracy: 0.7687\n",
            "Epoch 31/50\n",
            "782/782 [==============================] - 18s 24ms/step - loss: 0.1164 - accuracy: 0.9661 - val_loss: 1.7733 - val_accuracy: 0.7651\n",
            "Epoch 32/50\n",
            "782/782 [==============================] - 18s 23ms/step - loss: 0.0997 - accuracy: 0.9711 - val_loss: 1.9708 - val_accuracy: 0.7744\n",
            "Epoch 33/50\n",
            "782/782 [==============================] - 18s 23ms/step - loss: 0.0980 - accuracy: 0.9713 - val_loss: 1.8838 - val_accuracy: 0.7797\n",
            "Epoch 34/50\n",
            "782/782 [==============================] - 18s 23ms/step - loss: 0.0961 - accuracy: 0.9724 - val_loss: 2.0031 - val_accuracy: 0.7749\n",
            "Epoch 35/50\n",
            "782/782 [==============================] - 18s 23ms/step - loss: 0.0913 - accuracy: 0.9745 - val_loss: 2.1050 - val_accuracy: 0.7792\n",
            "Epoch 36/50\n",
            "782/782 [==============================] - 18s 23ms/step - loss: 0.1012 - accuracy: 0.9719 - val_loss: 2.0284 - val_accuracy: 0.7781\n",
            "Epoch 37/50\n",
            "782/782 [==============================] - 18s 24ms/step - loss: 0.0932 - accuracy: 0.9737 - val_loss: 2.0298 - val_accuracy: 0.7795\n",
            "Epoch 38/50\n",
            "782/782 [==============================] - 18s 23ms/step - loss: 0.0944 - accuracy: 0.9743 - val_loss: 2.0563 - val_accuracy: 0.7800\n",
            "Epoch 39/50\n",
            "782/782 [==============================] - 18s 23ms/step - loss: 0.0887 - accuracy: 0.9763 - val_loss: 2.1632 - val_accuracy: 0.7817\n",
            "Epoch 40/50\n",
            "782/782 [==============================] - 18s 23ms/step - loss: 0.0946 - accuracy: 0.9746 - val_loss: 2.1867 - val_accuracy: 0.7647\n",
            "Epoch 41/50\n",
            "782/782 [==============================] - 18s 23ms/step - loss: 0.0955 - accuracy: 0.9746 - val_loss: 2.2132 - val_accuracy: 0.7796\n",
            "Epoch 42/50\n",
            "782/782 [==============================] - 18s 23ms/step - loss: 0.0955 - accuracy: 0.9749 - val_loss: 2.2203 - val_accuracy: 0.7810\n",
            "Epoch 43/50\n",
            "782/782 [==============================] - 18s 23ms/step - loss: 0.0869 - accuracy: 0.9767 - val_loss: 2.2498 - val_accuracy: 0.7781\n",
            "Epoch 44/50\n",
            "782/782 [==============================] - 18s 23ms/step - loss: 0.0742 - accuracy: 0.9804 - val_loss: 2.5674 - val_accuracy: 0.7710\n",
            "Epoch 45/50\n",
            "782/782 [==============================] - 18s 24ms/step - loss: 0.1072 - accuracy: 0.9737 - val_loss: 2.2334 - val_accuracy: 0.7871\n",
            "Epoch 46/50\n",
            "782/782 [==============================] - 18s 24ms/step - loss: 0.0739 - accuracy: 0.9807 - val_loss: 2.2577 - val_accuracy: 0.7729\n",
            "Epoch 47/50\n",
            "782/782 [==============================] - 18s 23ms/step - loss: 0.0874 - accuracy: 0.9783 - val_loss: 2.3845 - val_accuracy: 0.7809\n",
            "Epoch 48/50\n",
            "782/782 [==============================] - 18s 23ms/step - loss: 0.0904 - accuracy: 0.9778 - val_loss: 2.5006 - val_accuracy: 0.7826\n",
            "Epoch 49/50\n",
            "782/782 [==============================] - 18s 23ms/step - loss: 0.0808 - accuracy: 0.9798 - val_loss: 2.5097 - val_accuracy: 0.7752\n",
            "Epoch 50/50\n",
            "782/782 [==============================] - 18s 23ms/step - loss: 0.0649 - accuracy: 0.9829 - val_loss: 2.7910 - val_accuracy: 0.7718\n",
            "Test loss: 2.7909903526306152\n",
            "Test accuracy: 0.7717999815940857\n"
          ]
        }
      ]
    },
    {
      "cell_type": "markdown",
      "source": [
        "Change batch size – i) 32"
      ],
      "metadata": {
        "id": "45cSd34yIl__"
      }
    },
    {
      "cell_type": "code",
      "source": [
        "batch_size = 32\n",
        "num_classes = 10\n",
        "epochs = 50"
      ],
      "metadata": {
        "id": "MhfRma87IuQe"
      },
      "execution_count": null,
      "outputs": []
    },
    {
      "cell_type": "code",
      "source": [
        "#  input image dimensions\n",
        "img_rows, img_cols = 32, 32\n",
        "# the data, split between train and test sets\n",
        "(x_train, y_train), (x_test, y_test) = cifar10.load_data()\n",
        "if K.image_data_format() == 'channels_first':\n",
        "  x_train = x_train.reshape(x_train.shape[0], 3, img_rows, img_cols)\n",
        "  x_test = x_test.reshape(x_test.shape[0], 3, img_rows, img_cols)\n",
        "  input_shape = (3, img_rows, img_cols)\n",
        "else:\n",
        "  x_train = x_train.reshape(x_train.shape[0], img_rows, img_cols, 3)\n",
        "  x_test = x_test.reshape(x_test.shape[0], img_rows, img_cols, 3)\n",
        "  input_shape = (img_rows, img_cols, 3)"
      ],
      "metadata": {
        "id": "dELyHWuoIwva",
        "colab": {
          "base_uri": "https://localhost:8080/"
        },
        "outputId": "420c8b88-b8d2-4f61-d244-1ed70171a479"
      },
      "execution_count": null,
      "outputs": [
        {
          "output_type": "stream",
          "name": "stdout",
          "text": [
            "Downloading data from https://www.cs.toronto.edu/~kriz/cifar-10-python.tar.gz\n",
            "170500096/170498071 [==============================] - 2s 0us/step\n",
            "170508288/170498071 [==============================] - 2s 0us/step\n"
          ]
        }
      ]
    },
    {
      "cell_type": "code",
      "source": [
        "x_train = x_train.astype('float32')\n",
        "x_test = x_test.astype('float32')\n",
        "x_train /= 255\n",
        "x_test /= 255\n",
        "print('x_train shape:', x_train.shape)\n",
        "print(x_train.shape[0], 'training samples')\n",
        "print(x_test.shape[0], 'testing samples')\n",
        "\n",
        "# convert class vectors to binary class matrices\n",
        "y_train = to_categorical(y_train, num_classes)\n",
        "y_test = to_categorical(y_test, num_classes)"
      ],
      "metadata": {
        "id": "t-j-RSHHJLCh",
        "colab": {
          "base_uri": "https://localhost:8080/"
        },
        "outputId": "ddb46c72-15d9-4994-e174-d388420eac72"
      },
      "execution_count": null,
      "outputs": [
        {
          "output_type": "stream",
          "name": "stdout",
          "text": [
            "x_train shape: (50000, 32, 32, 3)\n",
            "50000 training samples\n",
            "10000 testing samples\n"
          ]
        }
      ]
    },
    {
      "cell_type": "code",
      "source": [
        "model = Sequential()\n",
        "model.add(Conv2D(filters = 32, kernel_size = (3,3), padding='same', input_shape = input_shape))\n",
        "model.add(Activation('relu'))\n",
        "model.add(BatchNormalization())\n",
        "model.add(Conv2D(filters = 32, kernel_size = (3,3), padding='same'))\n",
        "model.add(Activation('relu'))\n",
        "model.add(BatchNormalization())\n",
        "model.add(MaxPooling2D(2,2))\n",
        "model.add(Dropout(0.2))\n",
        "\n",
        "model.add(Conv2D(filters = 64, kernel_size = (3,3), padding='same'))\n",
        "model.add(Activation('relu'))\n",
        "model.add(BatchNormalization())\n",
        "model.add(Conv2D(filters = 64, kernel_size = (3,3), padding='same'))\n",
        "model.add(Activation('relu'))\n",
        "model.add(BatchNormalization())\n",
        "model.add(MaxPooling2D(2,2))\n",
        "model.add(Dropout(0.3))\n",
        "\n",
        "model.add(Conv2D(filters = 128, kernel_size = (3,3), padding='same'))\n",
        "model.add(Activation('relu'))\n",
        "model.add(BatchNormalization())\n",
        "model.add(Conv2D(filters = 128, kernel_size = (3,3), padding='same'))\n",
        "model.add(Activation('relu'))\n",
        "model.add(BatchNormalization())\n",
        "model.add(MaxPooling2D(2,2))\n",
        "model.add(Dropout(0.4))\n",
        "\n",
        "model.add(Flatten())\n",
        "\n",
        "model.add(Dense(units = 10, activation = 'softmax'))"
      ],
      "metadata": {
        "id": "m3C3nVGXJQip"
      },
      "execution_count": null,
      "outputs": []
    },
    {
      "cell_type": "code",
      "source": [
        "# https://keras.io/optimizers/\n",
        "model.compile(loss=keras.losses.categorical_crossentropy, optimizer=keras.optimizers.Adam(lr=0.01), metrics=['accuracy'])"
      ],
      "metadata": {
        "id": "IDRYTVy_JSuv",
        "colab": {
          "base_uri": "https://localhost:8080/"
        },
        "outputId": "b01fb7b2-bf21-46f9-d99b-2f3970d73c33"
      },
      "execution_count": null,
      "outputs": [
        {
          "output_type": "stream",
          "name": "stderr",
          "text": [
            "/usr/local/lib/python3.7/dist-packages/keras/optimizer_v2/adam.py:105: UserWarning: The `lr` argument is deprecated, use `learning_rate` instead.\n",
            "  super(Adam, self).__init__(name, **kwargs)\n"
          ]
        }
      ]
    },
    {
      "cell_type": "code",
      "source": [
        "model.fit(x_train, y_train, batch_size=batch_size, epochs=epochs, verbose=1, validation_data=(x_test, y_test))\n",
        "score = model.evaluate(x_test, y_test, verbose=0)\n",
        "print('Test loss:', score[0])\n",
        "print('Test accuracy:', score[1])"
      ],
      "metadata": {
        "id": "COfsVq43JVRV",
        "colab": {
          "base_uri": "https://localhost:8080/"
        },
        "outputId": "f46d0888-f8aa-4be8-83cb-1709dc2cf0e4"
      },
      "execution_count": null,
      "outputs": [
        {
          "output_type": "stream",
          "name": "stdout",
          "text": [
            "Epoch 1/50\n",
            "1563/1563 [==============================] - 44s 22ms/step - loss: 1.7889 - accuracy: 0.4443 - val_loss: 1.4474 - val_accuracy: 0.4997\n",
            "Epoch 2/50\n",
            "1563/1563 [==============================] - 32s 21ms/step - loss: 1.0699 - accuracy: 0.6226 - val_loss: 1.3690 - val_accuracy: 0.5248\n",
            "Epoch 3/50\n",
            "1563/1563 [==============================] - 32s 20ms/step - loss: 0.9423 - accuracy: 0.6748 - val_loss: 1.1602 - val_accuracy: 0.6010\n",
            "Epoch 4/50\n",
            "1563/1563 [==============================] - 31s 20ms/step - loss: 0.8729 - accuracy: 0.7017 - val_loss: 0.8933 - val_accuracy: 0.6894\n",
            "Epoch 5/50\n",
            "1563/1563 [==============================] - 31s 20ms/step - loss: 0.8265 - accuracy: 0.7194 - val_loss: 0.8089 - val_accuracy: 0.7303\n",
            "Epoch 6/50\n",
            "1563/1563 [==============================] - 32s 20ms/step - loss: 0.7799 - accuracy: 0.7352 - val_loss: 0.7422 - val_accuracy: 0.7511\n",
            "Epoch 7/50\n",
            "1563/1563 [==============================] - 31s 20ms/step - loss: 0.7471 - accuracy: 0.7470 - val_loss: 0.7408 - val_accuracy: 0.7518\n",
            "Epoch 8/50\n",
            "1563/1563 [==============================] - 31s 20ms/step - loss: 0.7099 - accuracy: 0.7598 - val_loss: 0.6932 - val_accuracy: 0.7661\n",
            "Epoch 9/50\n",
            "1563/1563 [==============================] - 31s 20ms/step - loss: 0.6795 - accuracy: 0.7716 - val_loss: 0.6381 - val_accuracy: 0.7852\n",
            "Epoch 10/50\n",
            "1563/1563 [==============================] - 31s 20ms/step - loss: 0.6550 - accuracy: 0.7795 - val_loss: 0.6573 - val_accuracy: 0.7861\n",
            "Epoch 11/50\n",
            "1563/1563 [==============================] - 31s 20ms/step - loss: 0.6374 - accuracy: 0.7857 - val_loss: 0.6305 - val_accuracy: 0.7896\n",
            "Epoch 12/50\n",
            "1563/1563 [==============================] - 31s 20ms/step - loss: 0.6123 - accuracy: 0.7945 - val_loss: 0.5833 - val_accuracy: 0.8097\n",
            "Epoch 13/50\n",
            "1563/1563 [==============================] - 32s 21ms/step - loss: 0.5996 - accuracy: 0.7990 - val_loss: 0.6530 - val_accuracy: 0.7961\n",
            "Epoch 14/50\n",
            "1563/1563 [==============================] - 31s 20ms/step - loss: 0.5835 - accuracy: 0.8042 - val_loss: 0.9467 - val_accuracy: 0.7212\n",
            "Epoch 15/50\n",
            "1563/1563 [==============================] - 31s 20ms/step - loss: 0.5675 - accuracy: 0.8098 - val_loss: 0.5983 - val_accuracy: 0.8124\n",
            "Epoch 16/50\n",
            "1563/1563 [==============================] - 31s 20ms/step - loss: 0.5562 - accuracy: 0.8132 - val_loss: 0.5562 - val_accuracy: 0.8228\n",
            "Epoch 17/50\n",
            "1563/1563 [==============================] - 32s 20ms/step - loss: 0.5450 - accuracy: 0.8172 - val_loss: 0.6279 - val_accuracy: 0.8069\n",
            "Epoch 18/50\n",
            "1563/1563 [==============================] - 31s 20ms/step - loss: 0.5333 - accuracy: 0.8196 - val_loss: 0.5519 - val_accuracy: 0.8236\n",
            "Epoch 19/50\n",
            "1563/1563 [==============================] - 32s 21ms/step - loss: 0.5195 - accuracy: 0.8268 - val_loss: 0.6707 - val_accuracy: 0.7854\n",
            "Epoch 20/50\n",
            "1563/1563 [==============================] - 33s 21ms/step - loss: 0.5078 - accuracy: 0.8301 - val_loss: 0.5210 - val_accuracy: 0.8348\n",
            "Epoch 21/50\n",
            "1563/1563 [==============================] - 33s 21ms/step - loss: 0.4960 - accuracy: 0.8334 - val_loss: 0.5844 - val_accuracy: 0.8208\n",
            "Epoch 22/50\n",
            "1563/1563 [==============================] - 33s 21ms/step - loss: 0.4955 - accuracy: 0.8337 - val_loss: 0.5264 - val_accuracy: 0.8298\n",
            "Epoch 23/50\n",
            "1563/1563 [==============================] - 33s 21ms/step - loss: 0.4782 - accuracy: 0.8404 - val_loss: 0.5410 - val_accuracy: 0.8289\n",
            "Epoch 24/50\n",
            "1563/1563 [==============================] - 33s 21ms/step - loss: 0.4810 - accuracy: 0.8386 - val_loss: 0.5641 - val_accuracy: 0.8274\n",
            "Epoch 25/50\n",
            "1563/1563 [==============================] - 33s 21ms/step - loss: 0.4639 - accuracy: 0.8455 - val_loss: 0.5964 - val_accuracy: 0.8192\n",
            "Epoch 26/50\n",
            "1563/1563 [==============================] - 32s 20ms/step - loss: 0.4566 - accuracy: 0.8490 - val_loss: 0.5394 - val_accuracy: 0.8425\n",
            "Epoch 27/50\n",
            "1563/1563 [==============================] - 33s 21ms/step - loss: 0.4565 - accuracy: 0.8473 - val_loss: 0.5396 - val_accuracy: 0.8370\n",
            "Epoch 28/50\n",
            "1563/1563 [==============================] - 32s 21ms/step - loss: 0.4493 - accuracy: 0.8507 - val_loss: 0.6012 - val_accuracy: 0.8226\n",
            "Epoch 29/50\n",
            "1563/1563 [==============================] - 33s 21ms/step - loss: 0.4464 - accuracy: 0.8514 - val_loss: 0.5419 - val_accuracy: 0.8283\n",
            "Epoch 30/50\n",
            "1563/1563 [==============================] - 32s 21ms/step - loss: 0.4437 - accuracy: 0.8524 - val_loss: 0.5485 - val_accuracy: 0.8424\n",
            "Epoch 31/50\n",
            "1563/1563 [==============================] - 32s 21ms/step - loss: 0.4263 - accuracy: 0.8587 - val_loss: 0.5764 - val_accuracy: 0.8245\n",
            "Epoch 32/50\n",
            "1563/1563 [==============================] - 32s 21ms/step - loss: 0.4285 - accuracy: 0.8579 - val_loss: 0.5280 - val_accuracy: 0.8396\n",
            "Epoch 33/50\n",
            "1563/1563 [==============================] - 32s 21ms/step - loss: 0.4200 - accuracy: 0.8614 - val_loss: 0.5380 - val_accuracy: 0.8408\n",
            "Epoch 34/50\n",
            "1563/1563 [==============================] - 33s 21ms/step - loss: 0.4134 - accuracy: 0.8631 - val_loss: 0.5393 - val_accuracy: 0.8419\n",
            "Epoch 35/50\n",
            "1563/1563 [==============================] - 32s 20ms/step - loss: 0.4130 - accuracy: 0.8632 - val_loss: 0.5397 - val_accuracy: 0.8415\n",
            "Epoch 36/50\n",
            "1563/1563 [==============================] - 32s 20ms/step - loss: 0.4048 - accuracy: 0.8664 - val_loss: 0.5695 - val_accuracy: 0.8315\n",
            "Epoch 37/50\n",
            "1563/1563 [==============================] - 33s 21ms/step - loss: 0.3996 - accuracy: 0.8666 - val_loss: 0.5982 - val_accuracy: 0.8261\n",
            "Epoch 38/50\n",
            "1563/1563 [==============================] - 32s 20ms/step - loss: 0.3935 - accuracy: 0.8689 - val_loss: 0.5962 - val_accuracy: 0.8407\n",
            "Epoch 39/50\n",
            "1563/1563 [==============================] - 32s 20ms/step - loss: 0.3949 - accuracy: 0.8684 - val_loss: 0.6012 - val_accuracy: 0.8339\n",
            "Epoch 40/50\n",
            "1563/1563 [==============================] - 32s 20ms/step - loss: 0.3931 - accuracy: 0.8693 - val_loss: 0.6342 - val_accuracy: 0.8332\n",
            "Epoch 41/50\n",
            "1563/1563 [==============================] - 32s 20ms/step - loss: 0.3810 - accuracy: 0.8740 - val_loss: 0.5696 - val_accuracy: 0.8380\n",
            "Epoch 42/50\n",
            "1563/1563 [==============================] - 32s 21ms/step - loss: 0.3846 - accuracy: 0.8732 - val_loss: 0.5319 - val_accuracy: 0.8488\n",
            "Epoch 43/50\n",
            "1563/1563 [==============================] - 32s 21ms/step - loss: 0.3769 - accuracy: 0.8753 - val_loss: 0.5626 - val_accuracy: 0.8391\n",
            "Epoch 44/50\n",
            "1563/1563 [==============================] - 33s 21ms/step - loss: 0.3749 - accuracy: 0.8762 - val_loss: 0.5424 - val_accuracy: 0.8467\n",
            "Epoch 45/50\n",
            "1563/1563 [==============================] - 32s 20ms/step - loss: 0.3714 - accuracy: 0.8776 - val_loss: 0.5177 - val_accuracy: 0.8537\n",
            "Epoch 46/50\n",
            "1563/1563 [==============================] - 32s 20ms/step - loss: 0.3732 - accuracy: 0.8777 - val_loss: 0.5493 - val_accuracy: 0.8465\n",
            "Epoch 47/50\n",
            "1563/1563 [==============================] - 32s 20ms/step - loss: 0.3675 - accuracy: 0.8795 - val_loss: 0.5304 - val_accuracy: 0.8432\n",
            "Epoch 48/50\n",
            "1563/1563 [==============================] - 32s 20ms/step - loss: 0.3641 - accuracy: 0.8806 - val_loss: 0.5352 - val_accuracy: 0.8462\n",
            "Epoch 49/50\n",
            "1563/1563 [==============================] - 33s 21ms/step - loss: 0.3603 - accuracy: 0.8809 - val_loss: 0.5515 - val_accuracy: 0.8487\n",
            "Epoch 50/50\n",
            "1563/1563 [==============================] - 32s 20ms/step - loss: 0.3552 - accuracy: 0.8835 - val_loss: 0.5521 - val_accuracy: 0.8546\n",
            "Test loss: 0.5520985126495361\n",
            "Test accuracy: 0.8546000123023987\n"
          ]
        }
      ]
    },
    {
      "cell_type": "markdown",
      "source": [
        "Change batch size – ii) 128"
      ],
      "metadata": {
        "id": "YT8224Z_JFoT"
      }
    },
    {
      "cell_type": "code",
      "source": [
        "batch_size = 128\n",
        "num_classes = 10\n",
        "epochs = 50"
      ],
      "metadata": {
        "id": "BamidvRkJa8-"
      },
      "execution_count": null,
      "outputs": []
    },
    {
      "cell_type": "code",
      "source": [
        "#  input image dimensions\n",
        "img_rows, img_cols = 32, 32\n",
        "# the data, split between train and test sets\n",
        "(x_train, y_train), (x_test, y_test) = cifar10.load_data()\n",
        "if K.image_data_format() == 'channels_first':\n",
        "  x_train = x_train.reshape(x_train.shape[0], 3, img_rows, img_cols)\n",
        "  x_test = x_test.reshape(x_test.shape[0], 3, img_rows, img_cols)\n",
        "  input_shape = (3, img_rows, img_cols)\n",
        "else:\n",
        "  x_train = x_train.reshape(x_train.shape[0], img_rows, img_cols, 3)\n",
        "  x_test = x_test.reshape(x_test.shape[0], img_rows, img_cols, 3)\n",
        "  input_shape = (img_rows, img_cols, 3)"
      ],
      "metadata": {
        "id": "Wm3D6EfHJgAj"
      },
      "execution_count": null,
      "outputs": []
    },
    {
      "cell_type": "code",
      "source": [
        "x_train = x_train.astype('float32')\n",
        "x_test = x_test.astype('float32')\n",
        "x_train /= 255\n",
        "x_test /= 255\n",
        "print('x_train shape:', x_train.shape)\n",
        "print(x_train.shape[0], 'training samples')\n",
        "print(x_test.shape[0], 'testing samples')\n",
        "\n",
        "# convert class vectors to binary class matrices\n",
        "y_train = to_categorical(y_train, num_classes)\n",
        "y_test = to_categorical(y_test, num_classes)"
      ],
      "metadata": {
        "id": "xQ2SnX6UJiHa",
        "colab": {
          "base_uri": "https://localhost:8080/"
        },
        "outputId": "a0eb38ed-067e-4b4e-e8ea-752388a35c55"
      },
      "execution_count": null,
      "outputs": [
        {
          "output_type": "stream",
          "name": "stdout",
          "text": [
            "x_train shape: (50000, 32, 32, 3)\n",
            "50000 training samples\n",
            "10000 testing samples\n"
          ]
        }
      ]
    },
    {
      "cell_type": "code",
      "source": [
        "model = Sequential()\n",
        "model.add(Conv2D(filters = 32, kernel_size = (3,3), padding='same', input_shape = input_shape))\n",
        "model.add(Activation('relu'))\n",
        "model.add(BatchNormalization())\n",
        "model.add(Conv2D(filters = 32, kernel_size = (3,3), padding='same'))\n",
        "model.add(Activation('relu'))\n",
        "model.add(BatchNormalization())\n",
        "model.add(MaxPooling2D(2,2))\n",
        "model.add(Dropout(0.2))\n",
        "\n",
        "model.add(Conv2D(filters = 64, kernel_size = (3,3), padding='same'))\n",
        "model.add(Activation('relu'))\n",
        "model.add(BatchNormalization())\n",
        "model.add(Conv2D(filters = 64, kernel_size = (3,3), padding='same'))\n",
        "model.add(Activation('relu'))\n",
        "model.add(BatchNormalization())\n",
        "model.add(MaxPooling2D(2,2))\n",
        "model.add(Dropout(0.3))\n",
        "\n",
        "model.add(Conv2D(filters = 128, kernel_size = (3,3), padding='same'))\n",
        "model.add(Activation('relu'))\n",
        "model.add(BatchNormalization())\n",
        "model.add(Conv2D(filters = 128, kernel_size = (3,3), padding='same'))\n",
        "model.add(Activation('relu'))\n",
        "model.add(BatchNormalization())\n",
        "model.add(MaxPooling2D(2,2))\n",
        "model.add(Dropout(0.4))\n",
        "\n",
        "model.add(Flatten())\n",
        "\n",
        "model.add(Dense(units = 10, activation = 'softmax'))"
      ],
      "metadata": {
        "id": "CVOAg9IoJlal"
      },
      "execution_count": null,
      "outputs": []
    },
    {
      "cell_type": "code",
      "source": [
        "# https://keras.io/optimizers/\n",
        "model.compile(loss=keras.losses.categorical_crossentropy, optimizer=keras.optimizers.Adam(lr=0.01), metrics=['accuracy'])"
      ],
      "metadata": {
        "id": "A_4SQ8SWJn_M",
        "colab": {
          "base_uri": "https://localhost:8080/"
        },
        "outputId": "3bc8a32d-a20b-494c-8710-360f13cd67cd"
      },
      "execution_count": null,
      "outputs": [
        {
          "output_type": "stream",
          "name": "stderr",
          "text": [
            "/usr/local/lib/python3.7/dist-packages/keras/optimizer_v2/adam.py:105: UserWarning: The `lr` argument is deprecated, use `learning_rate` instead.\n",
            "  super(Adam, self).__init__(name, **kwargs)\n"
          ]
        }
      ]
    },
    {
      "cell_type": "code",
      "source": [
        "model.fit(x_train, y_train, batch_size=batch_size, epochs=epochs, verbose=1, validation_data=(x_test, y_test))\n",
        "score = model.evaluate(x_test, y_test, verbose=0)\n",
        "print('Test loss:', score[0])\n",
        "print('Test accuracy:', score[1])"
      ],
      "metadata": {
        "id": "YlbV80A8JvW3",
        "colab": {
          "base_uri": "https://localhost:8080/"
        },
        "outputId": "e88f781b-58ed-4b25-da1b-4275d0e1b33e"
      },
      "execution_count": null,
      "outputs": [
        {
          "output_type": "stream",
          "name": "stdout",
          "text": [
            "Epoch 1/50\n",
            "391/391 [==============================] - 16s 38ms/step - loss: 2.2164 - accuracy: 0.3966 - val_loss: 1.7688 - val_accuracy: 0.4074\n",
            "Epoch 2/50\n",
            "391/391 [==============================] - 14s 36ms/step - loss: 1.2040 - accuracy: 0.5684 - val_loss: 1.2665 - val_accuracy: 0.5629\n",
            "Epoch 3/50\n",
            "391/391 [==============================] - 15s 38ms/step - loss: 1.0067 - accuracy: 0.6426 - val_loss: 1.0312 - val_accuracy: 0.6358\n",
            "Epoch 4/50\n",
            "391/391 [==============================] - 14s 37ms/step - loss: 0.8744 - accuracy: 0.6903 - val_loss: 0.8572 - val_accuracy: 0.6935\n",
            "Epoch 5/50\n",
            "391/391 [==============================] - 14s 37ms/step - loss: 0.7909 - accuracy: 0.7221 - val_loss: 1.1422 - val_accuracy: 0.6373\n",
            "Epoch 6/50\n",
            "391/391 [==============================] - 14s 37ms/step - loss: 0.7293 - accuracy: 0.7447 - val_loss: 0.9737 - val_accuracy: 0.6759\n",
            "Epoch 7/50\n",
            "391/391 [==============================] - 15s 37ms/step - loss: 0.6856 - accuracy: 0.7608 - val_loss: 0.6631 - val_accuracy: 0.7673\n",
            "Epoch 8/50\n",
            "391/391 [==============================] - 15s 37ms/step - loss: 0.6492 - accuracy: 0.7730 - val_loss: 0.8847 - val_accuracy: 0.7132\n",
            "Epoch 9/50\n",
            "391/391 [==============================] - 14s 37ms/step - loss: 0.6228 - accuracy: 0.7817 - val_loss: 0.7034 - val_accuracy: 0.7563\n",
            "Epoch 10/50\n",
            "391/391 [==============================] - 14s 37ms/step - loss: 0.5957 - accuracy: 0.7922 - val_loss: 0.6336 - val_accuracy: 0.7876\n",
            "Epoch 11/50\n",
            "391/391 [==============================] - 14s 37ms/step - loss: 0.5777 - accuracy: 0.7974 - val_loss: 0.6294 - val_accuracy: 0.7930\n",
            "Epoch 12/50\n",
            "391/391 [==============================] - 14s 36ms/step - loss: 0.5576 - accuracy: 0.8042 - val_loss: 0.6934 - val_accuracy: 0.7640\n",
            "Epoch 13/50\n",
            "391/391 [==============================] - 14s 36ms/step - loss: 0.5415 - accuracy: 0.8101 - val_loss: 0.6757 - val_accuracy: 0.7753\n",
            "Epoch 14/50\n",
            "391/391 [==============================] - 14s 36ms/step - loss: 0.5274 - accuracy: 0.8167 - val_loss: 0.7164 - val_accuracy: 0.7645\n",
            "Epoch 15/50\n",
            "391/391 [==============================] - 14s 36ms/step - loss: 0.5125 - accuracy: 0.8206 - val_loss: 0.6191 - val_accuracy: 0.7974\n",
            "Epoch 16/50\n",
            "391/391 [==============================] - 14s 36ms/step - loss: 0.4989 - accuracy: 0.8245 - val_loss: 0.8143 - val_accuracy: 0.7547\n",
            "Epoch 17/50\n",
            "391/391 [==============================] - 14s 36ms/step - loss: 0.4867 - accuracy: 0.8312 - val_loss: 0.5532 - val_accuracy: 0.8193\n",
            "Epoch 18/50\n",
            "391/391 [==============================] - 14s 37ms/step - loss: 0.4727 - accuracy: 0.8362 - val_loss: 0.6983 - val_accuracy: 0.7754\n",
            "Epoch 19/50\n",
            "391/391 [==============================] - 14s 36ms/step - loss: 0.4682 - accuracy: 0.8377 - val_loss: 0.6108 - val_accuracy: 0.8021\n",
            "Epoch 20/50\n",
            "391/391 [==============================] - 14s 36ms/step - loss: 0.4512 - accuracy: 0.8429 - val_loss: 0.5686 - val_accuracy: 0.8173\n",
            "Epoch 21/50\n",
            "391/391 [==============================] - 14s 36ms/step - loss: 0.4429 - accuracy: 0.8454 - val_loss: 0.6071 - val_accuracy: 0.8096\n",
            "Epoch 22/50\n",
            "391/391 [==============================] - 14s 36ms/step - loss: 0.4342 - accuracy: 0.8492 - val_loss: 0.6580 - val_accuracy: 0.7937\n",
            "Epoch 23/50\n",
            "391/391 [==============================] - 14s 36ms/step - loss: 0.4286 - accuracy: 0.8517 - val_loss: 0.5279 - val_accuracy: 0.8274\n",
            "Epoch 24/50\n",
            "391/391 [==============================] - 14s 36ms/step - loss: 0.4101 - accuracy: 0.8558 - val_loss: 0.5964 - val_accuracy: 0.8144\n",
            "Epoch 25/50\n",
            "391/391 [==============================] - 14s 36ms/step - loss: 0.4069 - accuracy: 0.8559 - val_loss: 0.5403 - val_accuracy: 0.8254\n",
            "Epoch 26/50\n",
            "391/391 [==============================] - 14s 36ms/step - loss: 0.3866 - accuracy: 0.8655 - val_loss: 0.5588 - val_accuracy: 0.8207\n",
            "Epoch 27/50\n",
            "391/391 [==============================] - 14s 36ms/step - loss: 0.3898 - accuracy: 0.8666 - val_loss: 0.5281 - val_accuracy: 0.8323\n",
            "Epoch 28/50\n",
            "391/391 [==============================] - 14s 36ms/step - loss: 0.3825 - accuracy: 0.8652 - val_loss: 0.5689 - val_accuracy: 0.8258\n",
            "Epoch 29/50\n",
            "391/391 [==============================] - 14s 36ms/step - loss: 0.3729 - accuracy: 0.8705 - val_loss: 0.6013 - val_accuracy: 0.8164\n",
            "Epoch 30/50\n",
            "391/391 [==============================] - 14s 36ms/step - loss: 0.3637 - accuracy: 0.8736 - val_loss: 0.5941 - val_accuracy: 0.8202\n",
            "Epoch 31/50\n",
            "391/391 [==============================] - 14s 36ms/step - loss: 0.3559 - accuracy: 0.8756 - val_loss: 0.6135 - val_accuracy: 0.8168\n",
            "Epoch 32/50\n",
            "391/391 [==============================] - 14s 36ms/step - loss: 0.3523 - accuracy: 0.8776 - val_loss: 0.5235 - val_accuracy: 0.8458\n",
            "Epoch 33/50\n",
            "391/391 [==============================] - 14s 36ms/step - loss: 0.3487 - accuracy: 0.8780 - val_loss: 0.5552 - val_accuracy: 0.8355\n",
            "Epoch 34/50\n",
            "391/391 [==============================] - 14s 36ms/step - loss: 0.3409 - accuracy: 0.8810 - val_loss: 0.6227 - val_accuracy: 0.8105\n",
            "Epoch 35/50\n",
            "391/391 [==============================] - 14s 36ms/step - loss: 0.3371 - accuracy: 0.8824 - val_loss: 0.5744 - val_accuracy: 0.8325\n",
            "Epoch 36/50\n",
            "391/391 [==============================] - 15s 37ms/step - loss: 0.3348 - accuracy: 0.8844 - val_loss: 0.5629 - val_accuracy: 0.8322\n",
            "Epoch 37/50\n",
            "391/391 [==============================] - 14s 36ms/step - loss: 0.3277 - accuracy: 0.8868 - val_loss: 0.5900 - val_accuracy: 0.8231\n",
            "Epoch 38/50\n",
            "391/391 [==============================] - 15s 37ms/step - loss: 0.3220 - accuracy: 0.8885 - val_loss: 0.5885 - val_accuracy: 0.8316\n",
            "Epoch 39/50\n",
            "391/391 [==============================] - 14s 36ms/step - loss: 0.3210 - accuracy: 0.8876 - val_loss: 0.6491 - val_accuracy: 0.8154\n",
            "Epoch 40/50\n",
            "391/391 [==============================] - 14s 36ms/step - loss: 0.3129 - accuracy: 0.8925 - val_loss: 0.5319 - val_accuracy: 0.8507\n",
            "Epoch 41/50\n",
            "391/391 [==============================] - 14s 36ms/step - loss: 0.3107 - accuracy: 0.8922 - val_loss: 0.4961 - val_accuracy: 0.8511\n",
            "Epoch 42/50\n",
            "391/391 [==============================] - 14s 36ms/step - loss: 0.3030 - accuracy: 0.8944 - val_loss: 0.5933 - val_accuracy: 0.8421\n",
            "Epoch 43/50\n",
            "391/391 [==============================] - 14s 36ms/step - loss: 0.3044 - accuracy: 0.8951 - val_loss: 0.5608 - val_accuracy: 0.8410\n",
            "Epoch 44/50\n",
            "391/391 [==============================] - 14s 36ms/step - loss: 0.2965 - accuracy: 0.8978 - val_loss: 0.6189 - val_accuracy: 0.8254\n",
            "Epoch 45/50\n",
            "391/391 [==============================] - 14s 36ms/step - loss: 0.3015 - accuracy: 0.8960 - val_loss: 0.5339 - val_accuracy: 0.8412\n",
            "Epoch 46/50\n",
            "391/391 [==============================] - 14s 36ms/step - loss: 0.2942 - accuracy: 0.8996 - val_loss: 0.5249 - val_accuracy: 0.8484\n",
            "Epoch 47/50\n",
            "391/391 [==============================] - 14s 36ms/step - loss: 0.2839 - accuracy: 0.8999 - val_loss: 0.5464 - val_accuracy: 0.8418\n",
            "Epoch 48/50\n",
            "391/391 [==============================] - 14s 36ms/step - loss: 0.2864 - accuracy: 0.9003 - val_loss: 0.5236 - val_accuracy: 0.8524\n",
            "Epoch 49/50\n",
            "391/391 [==============================] - 14s 36ms/step - loss: 0.2848 - accuracy: 0.9002 - val_loss: 0.5709 - val_accuracy: 0.8417\n",
            "Epoch 50/50\n",
            "391/391 [==============================] - 14s 36ms/step - loss: 0.2750 - accuracy: 0.9050 - val_loss: 0.6052 - val_accuracy: 0.8266\n",
            "Test loss: 0.6052294373512268\n",
            "Test accuracy: 0.8266000151634216\n"
          ]
        }
      ]
    },
    {
      "cell_type": "markdown",
      "source": [
        ""
      ],
      "metadata": {
        "id": "lPOTKFVVLfkT"
      }
    }
  ]
}